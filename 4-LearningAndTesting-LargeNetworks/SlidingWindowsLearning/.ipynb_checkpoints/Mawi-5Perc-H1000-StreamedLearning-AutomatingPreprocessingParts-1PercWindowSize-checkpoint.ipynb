{
 "cells": [
  {
   "cell_type": "markdown",
   "id": "57413b7c",
   "metadata": {},
   "source": [
    "# Note\n",
    "1. Run the first part (Preprocessing df with no features) of the notebook and comment all other parts\n",
    "2. Run the second part (Preprocessing df_part_x.csv files on training and testing) of the notebook and comment all other parts\n",
    "3. Run the third part of the notebook (Read the filtered... to do the trraining...) of the notebook and comment all other parts $\\rightarrow$ The third part will give you the final results. "
   ]
  },
  {
   "cell_type": "markdown",
   "id": "ec298547",
   "metadata": {
    "papermill": {
     "duration": 0.008115,
     "end_time": "2024-08-27T10:49:41.043560",
     "exception": false,
     "start_time": "2024-08-27T10:49:41.035445",
     "status": "completed"
    },
    "tags": []
   },
   "source": [
    "# Imports"
   ]
  },
  {
   "cell_type": "code",
   "execution_count": 1,
   "id": "54598f9b",
   "metadata": {
    "execution": {
     "iopub.execute_input": "2024-08-27T10:49:41.058698Z",
     "iopub.status.busy": "2024-08-27T10:49:41.058427Z",
     "iopub.status.idle": "2024-08-27T10:49:42.148518Z",
     "shell.execute_reply": "2024-08-27T10:49:42.147591Z"
    },
    "papermill": {
     "duration": 1.101142,
     "end_time": "2024-08-27T10:49:42.151897",
     "exception": false,
     "start_time": "2024-08-27T10:49:41.050755",
     "status": "completed"
    },
    "tags": []
   },
   "outputs": [],
   "source": [
    "import os\n",
    "import ipdb\n",
    "import argparse\n",
    "import numpy as np\n",
    "import pandas as pd\n",
    "import numpy.random as random\n",
    "import networkx as nx\n",
    "from progressbar import ProgressBar\n",
    "import matplotlib.pyplot as plt\n",
    "import gzip\n",
    "from sklearn.model_selection import train_test_split\n",
    "from sklearn.ensemble import RandomForestClassifier\n",
    "from sklearn.metrics import accuracy_score, roc_auc_score, roc_curve\n",
    "import csv\n",
    "from joblib import dump, load\n",
    "import json\n",
    "pd.options.display.max_columns = 9999999"
   ]
  },
  {
   "cell_type": "markdown",
   "id": "58b4147e",
   "metadata": {
    "papermill": {
     "duration": 0.012544,
     "end_time": "2024-08-27T10:49:42.175167",
     "exception": false,
     "start_time": "2024-08-27T10:49:42.162623",
     "status": "completed"
    },
    "tags": []
   },
   "source": [
    "# Preprocessing df with no features ✅\n",
    "Chopping the t,u,v, is_fraud and subsequently the one with all the feaatures into overlapping windows"
   ]
  },
  {
   "cell_type": "raw",
   "id": "98619c0a",
   "metadata": {
    "papermill": {
     "duration": 0.009621,
     "end_time": "2024-08-27T10:49:42.194734",
     "exception": false,
     "start_time": "2024-08-27T10:49:42.185113",
     "status": "completed"
    },
    "tags": []
   },
   "source": [
    "import pandas as pd"
   ]
  },
  {
   "cell_type": "raw",
   "id": "e612ec60",
   "metadata": {
    "papermill": {
     "duration": 0.004365,
     "end_time": "2024-08-27T10:49:42.247258",
     "exception": false,
     "start_time": "2024-08-27T10:49:42.242893",
     "status": "completed"
    },
    "tags": []
   },
   "source": [
    "# With all features\n",
    "!zcat /Mawi2023/mawi_5_injected_H1000.gz | head -n 5"
   ]
  },
  {
   "cell_type": "raw",
   "id": "cb1c6b36",
   "metadata": {
    "papermill": {
     "duration": 0.004416,
     "end_time": "2024-08-27T10:49:42.255988",
     "exception": false,
     "start_time": "2024-08-27T10:49:42.251572",
     "status": "completed"
    },
    "tags": []
   },
   "source": [
    "# File path to the gzipped file\n",
    "file_path = '/Mawi2023/WithInjections/mawi.tuv.clean_5_injected.gz'\n",
    "\n",
    "# Read the gzipped file into a DataFrame\n",
    "df_no_features = pd.read_csv(file_path, sep=' ', names=['t', 'u', 'v', 'is_fraud'], compression='gzip', dtype={'t': int, 'u': str, 'v': str, 'is_fraud': 'int8'})"
   ]
  },
  {
   "cell_type": "raw",
   "id": "13fa6585",
   "metadata": {
    "papermill": {
     "duration": 0.004261,
     "end_time": "2024-08-27T10:49:42.264528",
     "exception": false,
     "start_time": "2024-08-27T10:49:42.260267",
     "status": "completed"
    },
    "tags": []
   },
   "source": [
    "df_no_features"
   ]
  },
  {
   "cell_type": "raw",
   "id": "29661857",
   "metadata": {
    "papermill": {
     "duration": 0.004237,
     "end_time": "2024-08-27T10:49:42.273335",
     "exception": false,
     "start_time": "2024-08-27T10:49:42.269098",
     "status": "completed"
    },
    "tags": []
   },
   "source": [
    "df_no_features.info()"
   ]
  },
  {
   "cell_type": "raw",
   "id": "acd6325e",
   "metadata": {
    "papermill": {
     "duration": 0.003997,
     "end_time": "2024-08-27T10:49:42.281443",
     "exception": false,
     "start_time": "2024-08-27T10:49:42.277446",
     "status": "completed"
    },
    "tags": []
   },
   "source": [
    "df_no_features.info(verbose=False, memory_usage=\"deep\")"
   ]
  },
  {
   "cell_type": "raw",
   "id": "30dba0a8",
   "metadata": {
    "papermill": {
     "duration": 0.003651,
     "end_time": "2024-08-27T10:49:42.288908",
     "exception": false,
     "start_time": "2024-08-27T10:49:42.285257",
     "status": "completed"
    },
    "tags": []
   },
   "source": [
    "df_no_features[\"is_fraud\"].value_counts()"
   ]
  },
  {
   "cell_type": "raw",
   "id": "348afe72",
   "metadata": {
    "papermill": {
     "duration": 0.003423,
     "end_time": "2024-08-27T10:49:42.295956",
     "exception": false,
     "start_time": "2024-08-27T10:49:42.292533",
     "status": "completed"
    },
    "tags": []
   },
   "source": [
    "len_df = len(df_no_features)\n",
    "len_df"
   ]
  },
  {
   "cell_type": "raw",
   "id": "030186a0",
   "metadata": {
    "papermill": {
     "duration": 0.003485,
     "end_time": "2024-08-27T10:49:42.302921",
     "exception": false,
     "start_time": "2024-08-27T10:49:42.299436",
     "status": "completed"
    },
    "tags": []
   },
   "source": [
    "a = input(\"Restart and take len_df only\")\n",
    "print(a) "
   ]
  },
  {
   "cell_type": "raw",
   "id": "efe48ac2",
   "metadata": {
    "papermill": {
     "duration": 0.003459,
     "end_time": "2024-08-27T10:49:42.309816",
     "exception": false,
     "start_time": "2024-08-27T10:49:42.306357",
     "status": "completed"
    },
    "tags": []
   },
   "source": [
    "import os\n",
    "import subprocess\n",
    "\n",
    "c = 0\n",
    "script_lines = [\"#!/bin/bash\\n\"]  # Add shebang line\n",
    "\n",
    "# Choosing that we want 50 windows, how much should the window delta be?\n",
    "total_size = 234396654  # Given total size\n",
    "window_size = int(total_size * 0.01)  # Calculate window size (10% of total size)\n",
    "num_windows = 50  # Number of desired windows\n",
    "\n",
    "# Calculate the step size (window delta)\n",
    "window_delta = (total_size - window_size) // (num_windows - 1)\n",
    "\n",
    "print(\"Window Size:\", window_size)\n",
    "print(\"Window Delta:\", window_delta)\n",
    "\n",
    "# Start the sliding window with overlap\n",
    "c = 0\n",
    "for i in range(0, total_size - window_size + 1, window_delta):\n",
    "    b_i = i\n",
    "    e_i = i + window_size\n",
    "    c += 1\n",
    "    if c == 51:\n",
    "        break\n",
    "    print(b_i, e_i, c)\n",
    "    \n",
    "    # Add lines to script\n",
    "    script_lines.append(f'echo \"Processing file {c}\"')  # Print which file is being processed\n",
    "    script_lines.append(f'n_debut={b_i}')\n",
    "    script_lines.append(f'n_fin={e_i}')\n",
    "    script_lines.append('filename=mawi_5_injected_H1000')\n",
    "    script_lines.append(f'zcat \"$filename\".gz | awk -v nd=\"$n_debut\" -v nf=\"$n_fin\" \\'{{if ((NR>=nd)&&(NR<=nf)) print $0; if (NR>nf) exit;}}\\' | gzip -c > \"df_part_{c}.gz\"')\n",
    "    script_lines.append('')\n",
    "\n",
    "# Write the script to a file\n",
    "script_path = \"cmdes_generated.sh\"\n",
    "with open(script_path, 'w') as script_file:\n",
    "    script_file.write('\\n'.join(script_lines))\n",
    "\n",
    "# Make the script executable\n",
    "os.chmod(script_path, 0o755)\n",
    "\n",
    "print(f'Script written to {script_path}')\n",
    "\n",
    "# Execute the script\n",
    "subprocess.run([script_path])"
   ]
  },
  {
   "cell_type": "markdown",
   "id": "53aab1ec",
   "metadata": {
    "papermill": {
     "duration": 0.003389,
     "end_time": "2024-08-27T10:49:42.316743",
     "exception": false,
     "start_time": "2024-08-27T10:49:42.313354",
     "status": "completed"
    },
    "tags": []
   },
   "source": [
    "# Preprocessing df_part_x.csv files on training and testing ✅"
   ]
  },
  {
   "cell_type": "raw",
   "id": "1b209422",
   "metadata": {
    "papermill": {
     "duration": 0.003445,
     "end_time": "2024-08-27T10:49:42.323628",
     "exception": false,
     "start_time": "2024-08-27T10:49:42.320183",
     "status": "completed"
    },
    "tags": []
   },
   "source": [
    "import pandas as pd\n",
    "import os\n",
    "\n",
    "def preprocess_file(file_name, chunksize=1000000, pickle_folder='Pickles'):\n",
    "    chunk_counter = 0\n",
    "    pickle_files = []\n",
    "    \n",
    "    # Create the pickle folder if it doesn't exist\n",
    "    os.makedirs(pickle_folder, exist_ok=True)\n",
    "    \n",
    "    # 1. Read the gzipped file in chunks\n",
    "    print(f\"Processing file: {file_name}\")\n",
    "    for chunk in pd.read_json(file_name, compression='gzip', lines=True, chunksize=chunksize):\n",
    "        chunk_counter += 1\n",
    "        pickle_file = os.path.join(pickle_folder, f'{os.path.splitext(os.path.basename(file_name))[0]}_chunk_{chunk_counter}.pkl')\n",
    "        chunk.to_pickle(pickle_file)\n",
    "        pickle_files.append(pickle_file)\n",
    "        print(f\"Saved chunk {chunk_counter} to {pickle_file}\")\n",
    "\n",
    "    return pickle_files\n",
    "\n",
    "# Process all files from df_part_1.gz to df_part_50.gz\n",
    "for i in range(1, 51):\n",
    "    file_name = f'df_part_{i}.gz'\n",
    "    pickle_files = preprocess_file(file_name, pickle_folder='Pickles')"
   ]
  },
  {
   "cell_type": "raw",
   "id": "c92c56f7",
   "metadata": {
    "papermill": {
     "duration": 0.003405,
     "end_time": "2024-08-27T10:49:42.330453",
     "exception": false,
     "start_time": "2024-08-27T10:49:42.327048",
     "status": "completed"
    },
    "tags": []
   },
   "source": [
    "a = input(\"Restart and continue from here\")\n",
    "print(a) "
   ]
  },
  {
   "cell_type": "raw",
   "id": "7b706998",
   "metadata": {
    "papermill": {
     "duration": 0.0034,
     "end_time": "2024-08-27T10:49:42.337291",
     "exception": false,
     "start_time": "2024-08-27T10:49:42.333891",
     "status": "completed"
    },
    "tags": []
   },
   "source": [
    "def process_pickles(pickle_files, file_name):\n",
    "    chunk_list = []\n",
    "\n",
    "    # Read all pickle files and concatenate them into a single DataFrame\n",
    "    for pickle_file in pickle_files:\n",
    "        chunk_list.append(pd.read_pickle(pickle_file))\n",
    "        print(f\"Read {pickle_file}\")\n",
    "\n",
    "    df_no_features = pd.concat(chunk_list, axis=0)\n",
    "    \n",
    "    # 2. Print DataFrame info\n",
    "    print(df_no_features.info(verbose=False, memory_usage=\"deep\"))\n",
    "    \n",
    "    # 3. Print value counts of 'is_fraud'\n",
    "    print(\"df_no_features['is_fraud'].value_counts()\")\n",
    "    print(df_no_features[\"is_fraud\"].value_counts())\n",
    "\n",
    "    # 4. Split into training and testing sets\n",
    "    percentage = round(len(df_no_features) * 0.70)\n",
    "    train_df_no_features = df_no_features.head(percentage)\n",
    "    test_df_no_features = df_no_features.iloc[percentage:]\n",
    "    \n",
    "    assert len(train_df_no_features) + len(test_df_no_features) == len(df_no_features)\n",
    "\n",
    "    # Save the testing set\n",
    "    test_output_file = f'TrainingTestingFiles/test_df_no_features_r0.7_df_part_{os.path.basename(file_name).split(\".\")[0]}.txt'\n",
    "    os.makedirs(os.path.dirname(test_output_file), exist_ok=True)\n",
    "    test_df_no_features.to_csv(test_output_file, sep=' ', index=False)\n",
    "\n",
    "    # Print value counts of 'is_fraud' in training and testing sets\n",
    "    print(\"train_df_no_features['is_fraud'].value_counts()\")\n",
    "    print(train_df_no_features[\"is_fraud\"].value_counts())\n",
    "    \n",
    "    print(\"test_df_no_features['is_fraud'].value_counts()\")\n",
    "    print(test_df_no_features[\"is_fraud\"].value_counts())\n",
    "\n",
    "    # 8. Undersample the training set\n",
    "    grouped = train_df_no_features.groupby('is_fraud')\n",
    "    anomalous = grouped.get_group(1)\n",
    "    nonanomalous = grouped.get_group(0)\n",
    "    \n",
    "    # Ensure sampling size does not exceed population size\n",
    "    if len(anomalous) > len(nonanomalous):\n",
    "        sample_size = len(nonanomalous)\n",
    "        anomalous_sample = anomalous.sample(n=sample_size, random_state=12)\n",
    "        train_df_no_features_undersampled = pd.concat([nonanomalous, anomalous_sample], axis=0)\n",
    "    else:\n",
    "        sample_size = len(anomalous)\n",
    "        nonanomalous_sample = nonanomalous.sample(n=sample_size, random_state=12)\n",
    "        train_df_no_features_undersampled = pd.concat([nonanomalous_sample, anomalous], axis=0)\n",
    "    \n",
    "    train_df_no_features_undersampled = train_df_no_features_undersampled.sample(frac=1, random_state=42)\n",
    "    \n",
    "    print(\"train_df_no_features_undersampled['is_fraud'].value_counts()\")\n",
    "    print(train_df_no_features_undersampled[\"is_fraud\"].value_counts())\n",
    "\n",
    "    # Save the undersampled training set\n",
    "    train_output_file = f'TrainingTestingFiles/train_df_no_features_undersampled_df_part_{os.path.basename(file_name).split(\".\")[0]}.txt'\n",
    "    train_df_no_features_undersampled.to_csv(train_output_file, sep=' ', index=False)"
   ]
  },
  {
   "cell_type": "raw",
   "id": "498a2249",
   "metadata": {
    "papermill": {
     "duration": 0.003401,
     "end_time": "2024-08-27T10:49:42.344166",
     "exception": false,
     "start_time": "2024-08-27T10:49:42.340765",
     "status": "completed"
    },
    "tags": []
   },
   "source": [
    "# Example placeholder\n",
    "number_of_chunks_for_file_i = 3  # Replace with actual number\n",
    "\n",
    "# Directory where pickle files are stored\n",
    "pickle_directory = 'Pickles'\n",
    "\n",
    "# Process all previously saved pickle files\n",
    "for i in range(1, 51):  # Adjust range as needed\n",
    "    pickle_files = [os.path.join(pickle_directory, f'df_part_{i}_chunk_{j}.pkl') for j in range(1, number_of_chunks_for_file_i + 1)]\n",
    "    file_name = f'df_part_{i}'  # Assuming this is how your file naming convention goes\n",
    "    process_pickles(pickle_files, file_name)"
   ]
  },
  {
   "cell_type": "markdown",
   "id": "dccc0c5a",
   "metadata": {
    "papermill": {
     "duration": 0.003368,
     "end_time": "2024-08-27T10:49:42.350928",
     "exception": false,
     "start_time": "2024-08-27T10:49:42.347560",
     "status": "completed"
    },
    "scrolled": true,
    "tags": []
   },
   "source": [
    "# Read in the `filtered...` to do the training and `to_test...` to do the testing for each window"
   ]
  },
  {
   "cell_type": "code",
   "execution_count": 2,
   "id": "f2e6629d",
   "metadata": {
    "execution": {
     "iopub.execute_input": "2024-08-27T10:49:42.359679Z",
     "iopub.status.busy": "2024-08-27T10:49:42.359151Z",
     "iopub.status.idle": "2024-08-27T10:49:42.369100Z",
     "shell.execute_reply": "2024-08-27T10:49:42.368054Z"
    },
    "papermill": {
     "duration": 0.016091,
     "end_time": "2024-08-27T10:49:42.370411",
     "exception": false,
     "start_time": "2024-08-27T10:49:42.354320",
     "status": "completed"
    },
    "tags": []
   },
   "outputs": [],
   "source": [
    "import pandas as pd\n",
    "from sklearn.ensemble import RandomForestClassifier\n",
    "from sklearn.metrics import roc_auc_score\n",
    "import os\n",
    "\n",
    "# Define the function for training and testing\n",
    "def train_and_test(train_file, test_file, part):\n",
    "    print(f\"Processing part {part}...\")\n",
    "\n",
    "    # Read the training DataFrame from the file\n",
    "    df_train = pd.read_csv(train_file, sep=' ')\n",
    "    \n",
    "    # Drop unnecessary columns\n",
    "    df_train = df_train.drop([\"t\", \"u\", \"v\", \"history_type\", \"history_size\", \"bip\", \"cost\"], axis=\"columns\")\n",
    "    \n",
    "    # Ensure no NaN values\n",
    "    df_train = df_train.dropna()\n",
    "    \n",
    "    # Count the values of the 'is_fraud' column\n",
    "    print(df_train[\"is_fraud\"].value_counts())\n",
    "    \n",
    "    # Training\n",
    "    X_train = df_train.drop('is_fraud', axis=1)\n",
    "    y_train = df_train['is_fraud']\n",
    "    \n",
    "    # Create a RandomForestClassifier\n",
    "    rf_classifier = RandomForestClassifier(random_state=42, n_jobs=-1)\n",
    "    \n",
    "    # Train the classifier on the training data\n",
    "    print(\"Training now\")\n",
    "    rf_classifier.fit(X_train, y_train)\n",
    "\n",
    "    # Testing\n",
    "    print(\"Testing now\")\n",
    "    chunk_size = 1000000\n",
    "    roc_auc_scores = []\n",
    "\n",
    "    for chunk in pd.read_csv(test_file, sep=' ', chunksize=chunk_size):\n",
    "        try:\n",
    "            chunk = chunk.dropna()\n",
    "            chunk = chunk.drop([\"t\", \"u\", \"v\", \"history_type\", \"history_size\", \"bip\", \"cost\"], axis=\"columns\")\n",
    "            X_chunk = chunk.drop('is_fraud', axis=1)\n",
    "            y_chunk = chunk['is_fraud']\n",
    "            y_pred_chunk = rf_classifier.predict(X_chunk)\n",
    "\n",
    "            roc_auc_chunk = roc_auc_score(y_chunk, rf_classifier.predict_proba(X_chunk)[:, 1])\n",
    "\n",
    "            roc_auc_scores.append(roc_auc_chunk)\n",
    "\n",
    "            print(f\"roc_auc_chunk: {roc_auc_chunk:.4f}\")\n",
    "            print(\"--------------------------------------------------------------\")\n",
    "            \n",
    "        except Exception as e:\n",
    "            print(f\"Error processing chunk: {e}\")\n",
    "            continue\n",
    "\n",
    "    if roc_auc_scores:\n",
    "        avg_roc_auc = sum(roc_auc_scores) / len(roc_auc_scores)\n",
    "\n",
    "        print(f\"Average ROC-AUC Score for df part {part}: {avg_roc_auc:.4f}\")\n",
    "        return avg_roc_auc\n",
    "    else:\n",
    "        print(f\"No valid chunks processed for part {part}.\")\n",
    "        return None"
   ]
  },
  {
   "cell_type": "code",
   "execution_count": 3,
   "id": "2a97e17b",
   "metadata": {
    "execution": {
     "iopub.execute_input": "2024-08-27T10:49:42.378389Z",
     "iopub.status.busy": "2024-08-27T10:49:42.378112Z",
     "iopub.status.idle": "2024-08-27T10:55:07.637341Z",
     "shell.execute_reply": "2024-08-27T10:55:07.636348Z"
    },
    "papermill": {
     "duration": 325.266804,
     "end_time": "2024-08-27T10:55:07.640812",
     "exception": false,
     "start_time": "2024-08-27T10:49:42.374008",
     "status": "completed"
    },
    "tags": []
   },
   "outputs": [
    {
     "name": "stdout",
     "output_type": "stream",
     "text": [
      "Processing part 1...\n",
      "0    95392\n",
      "1    95367\n",
      "Name: is_fraud, dtype: int64\n",
      "Training now\n",
      "Testing now\n",
      "roc_auc_chunk: 0.9187\n",
      "--------------------------------------------------------------\n",
      "Average ROC-AUC Score for df part 1: 0.9187\n",
      "Processing part 2...\n",
      "1    109301\n",
      "0    109301\n",
      "Name: is_fraud, dtype: int64\n",
      "Training now\n",
      "Testing now\n",
      "roc_auc_chunk: 0.9168\n",
      "--------------------------------------------------------------\n",
      "Average ROC-AUC Score for df part 2: 0.9168\n",
      "Processing part 3...\n",
      "0    72177\n",
      "1    72177\n",
      "Name: is_fraud, dtype: int64\n",
      "Training now\n",
      "Testing now\n",
      "roc_auc_chunk: 0.9462\n",
      "--------------------------------------------------------------\n",
      "Average ROC-AUC Score for df part 3: 0.9462\n",
      "Processing part 4...\n",
      "1    111458\n",
      "0    111458\n",
      "Name: is_fraud, dtype: int64\n",
      "Training now\n",
      "Testing now\n",
      "roc_auc_chunk: 0.9238\n",
      "--------------------------------------------------------------\n",
      "Average ROC-AUC Score for df part 4: 0.9238\n",
      "Processing part 5...\n",
      "1    132609\n",
      "0    132609\n",
      "Name: is_fraud, dtype: int64\n",
      "Training now\n",
      "Testing now\n",
      "roc_auc_chunk: 0.9174\n",
      "--------------------------------------------------------------\n",
      "Average ROC-AUC Score for df part 5: 0.9174\n",
      "Processing part 6...\n",
      "0    142926\n",
      "1    142926\n",
      "Name: is_fraud, dtype: int64\n",
      "Training now\n",
      "Testing now\n",
      "roc_auc_chunk: 0.9090\n",
      "--------------------------------------------------------------\n",
      "Average ROC-AUC Score for df part 6: 0.9090\n",
      "Processing part 7...\n",
      "1    140817\n",
      "0    140817\n",
      "Name: is_fraud, dtype: int64\n",
      "Training now\n",
      "Testing now\n",
      "roc_auc_chunk: 0.9171\n",
      "--------------------------------------------------------------\n",
      "Average ROC-AUC Score for df part 7: 0.9171\n",
      "Processing part 8...\n",
      "0    127335\n",
      "1    127335\n",
      "Name: is_fraud, dtype: int64\n",
      "Training now\n",
      "Testing now\n",
      "roc_auc_chunk: 0.9284\n",
      "--------------------------------------------------------------\n",
      "Average ROC-AUC Score for df part 8: 0.9284\n",
      "Processing part 9...\n",
      "1    143440\n",
      "0    143440\n",
      "Name: is_fraud, dtype: int64\n",
      "Training now\n",
      "Testing now\n",
      "roc_auc_chunk: 0.9083\n",
      "--------------------------------------------------------------\n",
      "Average ROC-AUC Score for df part 9: 0.9083\n",
      "Processing part 10...\n",
      "0    140698\n",
      "1    140698\n",
      "Name: is_fraud, dtype: int64\n",
      "Training now\n",
      "Testing now\n",
      "roc_auc_chunk: 0.9120\n",
      "--------------------------------------------------------------\n",
      "Average ROC-AUC Score for df part 10: 0.9120\n",
      "Processing part 11...\n",
      "0    113558\n",
      "1    113558\n",
      "Name: is_fraud, dtype: int64\n",
      "Training now\n",
      "Testing now\n",
      "roc_auc_chunk: 0.9037\n",
      "--------------------------------------------------------------\n",
      "Average ROC-AUC Score for df part 11: 0.9037\n",
      "Processing part 12...\n",
      "0    103138\n",
      "1    103138\n",
      "Name: is_fraud, dtype: int64\n",
      "Training now\n",
      "Testing now\n",
      "roc_auc_chunk: 0.9208\n",
      "--------------------------------------------------------------\n",
      "Average ROC-AUC Score for df part 12: 0.9208\n",
      "Processing part 13...\n",
      "0    79432\n",
      "1    79432\n",
      "Name: is_fraud, dtype: int64\n",
      "Training now\n",
      "Testing now\n",
      "roc_auc_chunk: 0.9339\n",
      "--------------------------------------------------------------\n",
      "Average ROC-AUC Score for df part 13: 0.9339\n",
      "Processing part 14...\n",
      "0    74186\n",
      "1    74186\n",
      "Name: is_fraud, dtype: int64\n",
      "Training now\n",
      "Testing now\n",
      "roc_auc_chunk: 0.9379\n",
      "--------------------------------------------------------------\n",
      "Average ROC-AUC Score for df part 14: 0.9379\n",
      "Processing part 15...\n",
      "1    68046\n",
      "0    68046\n",
      "Name: is_fraud, dtype: int64\n",
      "Training now\n",
      "Testing now\n",
      "roc_auc_chunk: 0.9420\n",
      "--------------------------------------------------------------\n",
      "Average ROC-AUC Score for df part 15: 0.9420\n",
      "Processing part 16...\n",
      "0    62779\n",
      "1    62779\n",
      "Name: is_fraud, dtype: int64\n",
      "Training now\n",
      "Testing now\n",
      "roc_auc_chunk: 0.9439\n",
      "--------------------------------------------------------------\n",
      "Average ROC-AUC Score for df part 16: 0.9439\n",
      "Processing part 17...\n",
      "0    60268\n",
      "1    60268\n",
      "Name: is_fraud, dtype: int64\n",
      "Training now\n",
      "Testing now\n",
      "roc_auc_chunk: 0.9421\n",
      "--------------------------------------------------------------\n",
      "Average ROC-AUC Score for df part 17: 0.9421\n",
      "Processing part 18...\n",
      "1    55065\n",
      "0    55065\n",
      "Name: is_fraud, dtype: int64\n",
      "Training now\n",
      "Testing now\n",
      "roc_auc_chunk: 0.9491\n",
      "--------------------------------------------------------------\n",
      "Average ROC-AUC Score for df part 18: 0.9491\n",
      "Processing part 19...\n",
      "0    51931\n",
      "1    51931\n",
      "Name: is_fraud, dtype: int64\n",
      "Training now\n",
      "Testing now\n",
      "roc_auc_chunk: 0.9520\n",
      "--------------------------------------------------------------\n",
      "Average ROC-AUC Score for df part 19: 0.9520\n",
      "Processing part 20...\n",
      "1    52027\n",
      "0    52027\n",
      "Name: is_fraud, dtype: int64\n",
      "Training now\n",
      "Testing now\n",
      "roc_auc_chunk: 0.9420\n",
      "--------------------------------------------------------------\n",
      "Average ROC-AUC Score for df part 20: 0.9420\n",
      "Processing part 21...\n",
      "1    51046\n",
      "0    51046\n",
      "Name: is_fraud, dtype: int64\n",
      "Training now\n",
      "Testing now\n",
      "roc_auc_chunk: 0.9524\n",
      "--------------------------------------------------------------\n",
      "Average ROC-AUC Score for df part 21: 0.9524\n",
      "Processing part 22...\n",
      "1    50441\n",
      "0    50441\n",
      "Name: is_fraud, dtype: int64\n",
      "Training now\n",
      "Testing now\n",
      "roc_auc_chunk: 0.9523\n",
      "--------------------------------------------------------------\n",
      "Average ROC-AUC Score for df part 22: 0.9523\n",
      "Processing part 23...\n",
      "0    47470\n",
      "1    47470\n",
      "Name: is_fraud, dtype: int64\n",
      "Training now\n",
      "Testing now\n",
      "roc_auc_chunk: 0.9536\n",
      "--------------------------------------------------------------\n",
      "Average ROC-AUC Score for df part 23: 0.9536\n",
      "Processing part 24...\n",
      "0    46805\n",
      "1    46805\n",
      "Name: is_fraud, dtype: int64\n",
      "Training now\n",
      "Testing now\n",
      "roc_auc_chunk: 0.9541\n",
      "--------------------------------------------------------------\n",
      "Average ROC-AUC Score for df part 24: 0.9541\n",
      "Processing part 25...\n",
      "0    50974\n",
      "1    50974\n",
      "Name: is_fraud, dtype: int64\n",
      "Training now\n",
      "Testing now\n",
      "roc_auc_chunk: 0.9536\n",
      "--------------------------------------------------------------\n",
      "Average ROC-AUC Score for df part 25: 0.9536\n",
      "Processing part 26...\n",
      "0    50712\n",
      "1    50712\n",
      "Name: is_fraud, dtype: int64\n",
      "Training now\n",
      "Testing now\n",
      "roc_auc_chunk: 0.9528\n",
      "--------------------------------------------------------------\n",
      "Average ROC-AUC Score for df part 26: 0.9528\n",
      "Processing part 27...\n",
      "0    52434\n",
      "1    52434\n",
      "Name: is_fraud, dtype: int64\n",
      "Training now\n",
      "Testing now\n",
      "roc_auc_chunk: 0.9508\n",
      "--------------------------------------------------------------\n",
      "Average ROC-AUC Score for df part 27: 0.9508\n",
      "Processing part 28...\n",
      "0    52888\n",
      "1    52888\n",
      "Name: is_fraud, dtype: int64\n",
      "Training now\n",
      "Testing now\n",
      "roc_auc_chunk: 0.9493\n",
      "--------------------------------------------------------------\n",
      "Average ROC-AUC Score for df part 28: 0.9493\n",
      "Processing part 29...\n",
      "0    53400\n",
      "1    53400\n",
      "Name: is_fraud, dtype: int64\n",
      "Training now\n",
      "Testing now\n",
      "roc_auc_chunk: 0.9496\n",
      "--------------------------------------------------------------\n",
      "Average ROC-AUC Score for df part 29: 0.9496\n",
      "Processing part 30...\n",
      "1    43029\n",
      "0    43029\n",
      "Name: is_fraud, dtype: int64\n",
      "Training now\n",
      "Testing now\n",
      "roc_auc_chunk: 0.9608\n",
      "--------------------------------------------------------------\n",
      "Average ROC-AUC Score for df part 30: 0.9608\n",
      "Processing part 31...\n",
      "1    49757\n",
      "0    49757\n",
      "Name: is_fraud, dtype: int64\n",
      "Training now\n",
      "Testing now\n",
      "roc_auc_chunk: 0.9508\n",
      "--------------------------------------------------------------\n",
      "Average ROC-AUC Score for df part 31: 0.9508\n",
      "Processing part 32...\n",
      "0    52295\n",
      "1    52295\n",
      "Name: is_fraud, dtype: int64\n",
      "Training now\n",
      "Testing now\n",
      "roc_auc_chunk: 0.9499\n",
      "--------------------------------------------------------------\n",
      "Average ROC-AUC Score for df part 32: 0.9499\n",
      "Processing part 33...\n",
      "1    51473\n",
      "0    51473\n",
      "Name: is_fraud, dtype: int64\n",
      "Training now\n",
      "Testing now\n",
      "roc_auc_chunk: 0.9483\n",
      "--------------------------------------------------------------\n",
      "Average ROC-AUC Score for df part 33: 0.9483\n",
      "Processing part 34...\n",
      "0    52805\n",
      "1    52805\n",
      "Name: is_fraud, dtype: int64\n",
      "Training now\n",
      "Testing now\n",
      "roc_auc_chunk: 0.9449\n",
      "--------------------------------------------------------------\n",
      "Average ROC-AUC Score for df part 34: 0.9449\n",
      "Processing part 35...\n",
      "0    56481\n",
      "1    56481\n",
      "Name: is_fraud, dtype: int64\n",
      "Training now\n",
      "Testing now\n",
      "roc_auc_chunk: 0.9405\n",
      "--------------------------------------------------------------\n",
      "Average ROC-AUC Score for df part 35: 0.9405\n",
      "Processing part 36...\n",
      "0    58812\n",
      "1    58812\n",
      "Name: is_fraud, dtype: int64\n",
      "Training now\n",
      "Testing now\n",
      "roc_auc_chunk: 0.9404\n",
      "--------------------------------------------------------------\n",
      "Average ROC-AUC Score for df part 36: 0.9404\n",
      "Processing part 37...\n"
     ]
    },
    {
     "name": "stdout",
     "output_type": "stream",
     "text": [
      "0    59818\n",
      "1    59818\n",
      "Name: is_fraud, dtype: int64\n",
      "Training now\n",
      "Testing now\n",
      "roc_auc_chunk: 0.9389\n",
      "--------------------------------------------------------------\n",
      "Average ROC-AUC Score for df part 37: 0.9389\n",
      "Processing part 38...\n",
      "0    62391\n",
      "1    62391\n",
      "Name: is_fraud, dtype: int64\n",
      "Training now\n",
      "Testing now\n",
      "roc_auc_chunk: 0.9373\n",
      "--------------------------------------------------------------\n",
      "Average ROC-AUC Score for df part 38: 0.9373\n",
      "Processing part 39...\n",
      "0    64220\n",
      "1    64220\n",
      "Name: is_fraud, dtype: int64\n",
      "Training now\n",
      "Testing now\n",
      "roc_auc_chunk: 0.9374\n",
      "--------------------------------------------------------------\n",
      "Average ROC-AUC Score for df part 39: 0.9374\n",
      "Processing part 40...\n",
      "1    71715\n",
      "0    71715\n",
      "Name: is_fraud, dtype: int64\n",
      "Training now\n",
      "Testing now\n",
      "roc_auc_chunk: 0.9301\n",
      "--------------------------------------------------------------\n",
      "Average ROC-AUC Score for df part 40: 0.9301\n",
      "Processing part 41...\n",
      "0    76696\n",
      "1    76696\n",
      "Name: is_fraud, dtype: int64\n",
      "Training now\n",
      "Testing now\n",
      "roc_auc_chunk: 0.9268\n",
      "--------------------------------------------------------------\n",
      "Average ROC-AUC Score for df part 41: 0.9268\n",
      "Processing part 42...\n",
      "0    78900\n",
      "1    78900\n",
      "Name: is_fraud, dtype: int64\n",
      "Training now\n",
      "Testing now\n",
      "roc_auc_chunk: 0.9229\n",
      "--------------------------------------------------------------\n",
      "Average ROC-AUC Score for df part 42: 0.9229\n",
      "Processing part 43...\n",
      "1    82378\n",
      "0    82378\n",
      "Name: is_fraud, dtype: int64\n",
      "Training now\n",
      "Testing now\n",
      "roc_auc_chunk: 0.9208\n",
      "--------------------------------------------------------------\n",
      "Average ROC-AUC Score for df part 43: 0.9208\n",
      "Processing part 44...\n",
      "1    84970\n",
      "0    84970\n",
      "Name: is_fraud, dtype: int64\n",
      "Training now\n",
      "Testing now\n",
      "roc_auc_chunk: 0.9162\n",
      "--------------------------------------------------------------\n",
      "Average ROC-AUC Score for df part 44: 0.9162\n",
      "Processing part 45...\n",
      "1    89827\n",
      "0    89827\n",
      "Name: is_fraud, dtype: int64\n",
      "Training now\n",
      "Testing now\n",
      "roc_auc_chunk: 0.9151\n",
      "--------------------------------------------------------------\n",
      "Average ROC-AUC Score for df part 45: 0.9151\n",
      "Processing part 46...\n",
      "0    90602\n",
      "1    90602\n",
      "Name: is_fraud, dtype: int64\n",
      "Training now\n",
      "Testing now\n",
      "roc_auc_chunk: 0.9170\n",
      "--------------------------------------------------------------\n",
      "Average ROC-AUC Score for df part 46: 0.9170\n",
      "Processing part 47...\n",
      "1    90424\n",
      "0    90424\n",
      "Name: is_fraud, dtype: int64\n",
      "Training now\n",
      "Testing now\n",
      "roc_auc_chunk: 0.9172\n",
      "--------------------------------------------------------------\n",
      "Average ROC-AUC Score for df part 47: 0.9172\n",
      "Processing part 48...\n",
      "1    94164\n",
      "0    94164\n",
      "Name: is_fraud, dtype: int64\n",
      "Training now\n",
      "Testing now\n",
      "roc_auc_chunk: 0.9127\n",
      "--------------------------------------------------------------\n",
      "Average ROC-AUC Score for df part 48: 0.9127\n",
      "Processing part 49...\n",
      "0    96923\n",
      "1    96923\n",
      "Name: is_fraud, dtype: int64\n",
      "Training now\n",
      "Testing now\n",
      "roc_auc_chunk: 0.9101\n",
      "--------------------------------------------------------------\n",
      "Average ROC-AUC Score for df part 49: 0.9101\n",
      "Processing part 50...\n",
      "1    103787\n",
      "0    103787\n",
      "Name: is_fraud, dtype: int64\n",
      "Training now\n",
      "Testing now\n",
      "roc_auc_chunk: 0.9124\n",
      "--------------------------------------------------------------\n",
      "Average ROC-AUC Score for df part 50: 0.9124\n",
      "Overall Average ROC-AUC Score: 0.9337\n"
     ]
    }
   ],
   "source": [
    "avg_roc_auc_list = []\n",
    "\n",
    "base_dir = 'TrainingTestingFiles'\n",
    "\n",
    "for i in range(1, 51):\n",
    "    train_file = os.path.join(base_dir, f'train_df_no_features_undersampled_df_part_df_part_{i}.txt')\n",
    "    test_file = os.path.join(base_dir, f'test_df_no_features_r0.7_df_part_df_part_{i}.txt')\n",
    "    avg_roc_auc = train_and_test(train_file, test_file, i)\n",
    "    avg_roc_auc_list.append(avg_roc_auc)\n",
    "\n",
    "print(f\"Overall Average ROC-AUC Score: {sum(avg_roc_auc_list) / len(avg_roc_auc_list):.4f}\")"
   ]
  },
  {
   "cell_type": "code",
   "execution_count": 4,
   "id": "a2c6622a",
   "metadata": {
    "execution": {
     "iopub.execute_input": "2024-08-27T10:55:07.696204Z",
     "iopub.status.busy": "2024-08-27T10:55:07.695927Z",
     "iopub.status.idle": "2024-08-27T10:55:07.701186Z",
     "shell.execute_reply": "2024-08-27T10:55:07.700652Z"
    },
    "papermill": {
     "duration": 0.034708,
     "end_time": "2024-08-27T10:55:07.703926",
     "exception": false,
     "start_time": "2024-08-27T10:55:07.669218",
     "status": "completed"
    },
    "tags": []
   },
   "outputs": [
    {
     "name": "stdout",
     "output_type": "stream",
     "text": [
      "Lowest ROC-AUC: 0.9037455225191943\n",
      "Highest ROC-AUC: 0.9607985467208028\n",
      "Average ROC-AUC: 0.9336851853070124\n"
     ]
    }
   ],
   "source": [
    "if avg_roc_auc_list:\n",
    "    lowest_roc_auc = min(avg_roc_auc_list)\n",
    "    highest_roc_auc = max(avg_roc_auc_list)\n",
    "    avg_roc_auc = sum(avg_roc_auc_list) / len(avg_roc_auc_list)\n",
    "\n",
    "    print(\"Lowest ROC-AUC:\", lowest_roc_auc)\n",
    "    print(\"Highest ROC-AUC:\", highest_roc_auc)\n",
    "    print(\"Average ROC-AUC:\", avg_roc_auc)\n",
    "\n",
    "else:\n",
    "    print(\"No valid data for calculating statistics.\")\n"
   ]
  },
  {
   "cell_type": "code",
   "execution_count": 5,
   "id": "23c22909",
   "metadata": {
    "execution": {
     "iopub.execute_input": "2024-08-27T10:55:07.742612Z",
     "iopub.status.busy": "2024-08-27T10:55:07.742233Z",
     "iopub.status.idle": "2024-08-27T10:55:07.753865Z",
     "shell.execute_reply": "2024-08-27T10:55:07.753075Z"
    },
    "papermill": {
     "duration": 0.03214,
     "end_time": "2024-08-27T10:55:07.755809",
     "exception": false,
     "start_time": "2024-08-27T10:55:07.723669",
     "status": "completed"
    },
    "tags": []
   },
   "outputs": [
    {
     "data": {
      "text/plain": [
       "[0.9186645902329735,\n",
       " 0.9167812274032962,\n",
       " 0.9462228677892658,\n",
       " 0.9237517823500113,\n",
       " 0.9174041638053452,\n",
       " 0.9089669162417493,\n",
       " 0.9171048336306618,\n",
       " 0.9284328504510404,\n",
       " 0.9083000517483193,\n",
       " 0.911961881851153,\n",
       " 0.9037455225191943,\n",
       " 0.9207918920138527,\n",
       " 0.9339058535433584,\n",
       " 0.9378631539234141,\n",
       " 0.942015262602313,\n",
       " 0.9438789875904707,\n",
       " 0.9421472497377066,\n",
       " 0.9491268434851483,\n",
       " 0.952040784058464,\n",
       " 0.9420218972505038,\n",
       " 0.9523943680898806,\n",
       " 0.9522943976190679,\n",
       " 0.9536295495266506,\n",
       " 0.9541392397753244,\n",
       " 0.9536466347159722,\n",
       " 0.9527771709675913,\n",
       " 0.9507787847882284,\n",
       " 0.949259305800656,\n",
       " 0.9496071431402917,\n",
       " 0.9607985467208028,\n",
       " 0.9507934274577184,\n",
       " 0.9499268977437265,\n",
       " 0.9483040805398758,\n",
       " 0.9449130179319263,\n",
       " 0.9404676017298202,\n",
       " 0.9404459402222656,\n",
       " 0.9388757306361764,\n",
       " 0.9373248176058294,\n",
       " 0.9374437981794572,\n",
       " 0.9300591920899626,\n",
       " 0.9268265558986473,\n",
       " 0.9229110513809137,\n",
       " 0.920772594931503,\n",
       " 0.9162038354978764,\n",
       " 0.9150712382475794,\n",
       " 0.9169780756678063,\n",
       " 0.9172413528884575,\n",
       " 0.9127135996441547,\n",
       " 0.9101439734613206,\n",
       " 0.9123887302228787]"
      ]
     },
     "execution_count": 5,
     "metadata": {},
     "output_type": "execute_result"
    }
   ],
   "source": [
    "avg_roc_auc_list"
   ]
  },
  {
   "cell_type": "code",
   "execution_count": 6,
   "id": "42f76c18",
   "metadata": {
    "execution": {
     "iopub.execute_input": "2024-08-27T10:55:07.789020Z",
     "iopub.status.busy": "2024-08-27T10:55:07.788109Z",
     "iopub.status.idle": "2024-08-27T10:55:07.794593Z",
     "shell.execute_reply": "2024-08-27T10:55:07.793766Z"
    },
    "papermill": {
     "duration": 0.024858,
     "end_time": "2024-08-27T10:55:07.796373",
     "exception": false,
     "start_time": "2024-08-27T10:55:07.771515",
     "status": "completed"
    },
    "tags": []
   },
   "outputs": [
    {
     "data": {
      "text/plain": [
       "50"
      ]
     },
     "execution_count": 6,
     "metadata": {},
     "output_type": "execute_result"
    }
   ],
   "source": [
    "len(avg_roc_auc_list)"
   ]
  },
  {
   "cell_type": "code",
   "execution_count": 7,
   "id": "bf9b6624",
   "metadata": {
    "execution": {
     "iopub.execute_input": "2024-08-27T10:55:07.824703Z",
     "iopub.status.busy": "2024-08-27T10:55:07.823941Z",
     "iopub.status.idle": "2024-08-27T10:55:09.096024Z",
     "shell.execute_reply": "2024-08-27T10:55:09.094745Z"
    },
    "papermill": {
     "duration": 1.288972,
     "end_time": "2024-08-27T10:55:09.098641",
     "exception": false,
     "start_time": "2024-08-27T10:55:07.809669",
     "status": "completed"
    },
    "tags": []
   },
   "outputs": [],
   "source": [
    "df = pd.DataFrame(avg_roc_auc_list, columns=[\"Avg ROC AUC\"])\n",
    "\n",
    "df.to_excel(\"avg_roc_auc_list.xlsx\", index=False)"
   ]
  },
  {
   "cell_type": "code",
   "execution_count": null,
   "id": "38e3fdd9",
   "metadata": {
    "papermill": {
     "duration": 0.017498,
     "end_time": "2024-08-27T10:55:09.134266",
     "exception": false,
     "start_time": "2024-08-27T10:55:09.116768",
     "status": "completed"
    },
    "tags": []
   },
   "outputs": [],
   "source": []
  },
  {
   "cell_type": "code",
   "execution_count": null,
   "id": "0fda2326",
   "metadata": {
    "papermill": {
     "duration": 0.014052,
     "end_time": "2024-08-27T10:55:09.165396",
     "exception": false,
     "start_time": "2024-08-27T10:55:09.151344",
     "status": "completed"
    },
    "tags": []
   },
   "outputs": [],
   "source": []
  },
  {
   "cell_type": "code",
   "execution_count": null,
   "id": "1038ccdc",
   "metadata": {
    "papermill": {
     "duration": 0.010659,
     "end_time": "2024-08-27T10:55:09.188199",
     "exception": false,
     "start_time": "2024-08-27T10:55:09.177540",
     "status": "completed"
    },
    "tags": []
   },
   "outputs": [],
   "source": []
  }
 ],
 "metadata": {
  "kernelspec": {
   "display_name": "Python 3",
   "language": "python",
   "name": "python3"
  },
  "language_info": {
   "codemirror_mode": {
    "name": "ipython",
    "version": 3
   },
   "file_extension": ".py",
   "mimetype": "text/x-python",
   "name": "python",
   "nbconvert_exporter": "python",
   "pygments_lexer": "ipython3",
   "version": "3.8.8"
  },
  "papermill": {
   "default_parameters": {},
   "duration": 330.094332,
   "end_time": "2024-08-27T10:55:09.920477",
   "environment_variables": {},
   "exception": null,
   "input_path": "Mawi-5Perc-H1000-StreamedLearning-AutomatingPreprocessingParts-1PercWindowSize-ForGithub.ipynb",
   "output_path": "Mawi-5Perc-H1000-StreamedLearning-AutomatingPreprocessingParts-1PercWindowSize-ForGithub-Output.ipynb",
   "parameters": {},
   "start_time": "2024-08-27T10:49:39.826145",
   "version": "2.4.0"
  },
  "toc": {
   "base_numbering": 1,
   "nav_menu": {},
   "number_sections": true,
   "sideBar": true,
   "skip_h1_title": false,
   "title_cell": "Table of Contents",
   "title_sidebar": "Contents",
   "toc_cell": false,
   "toc_position": {
    "height": "calc(100% - 180px)",
    "left": "10px",
    "top": "150px",
    "width": "409.538px"
   },
   "toc_section_display": true,
   "toc_window_display": true
  },
  "varInspector": {
   "cols": {
    "lenName": 16,
    "lenType": 16,
    "lenVar": 40
   },
   "kernels_config": {
    "python": {
     "delete_cmd_postfix": "",
     "delete_cmd_prefix": "del ",
     "library": "var_list.py",
     "varRefreshCmd": "print(var_dic_list())"
    },
    "r": {
     "delete_cmd_postfix": ") ",
     "delete_cmd_prefix": "rm(",
     "library": "var_list.r",
     "varRefreshCmd": "cat(var_dic_list()) "
    }
   },
   "types_to_exclude": [
    "module",
    "function",
    "builtin_function_or_method",
    "instance",
    "_Feature"
   ],
   "window_display": false
  }
 },
 "nbformat": 4,
 "nbformat_minor": 5
}
