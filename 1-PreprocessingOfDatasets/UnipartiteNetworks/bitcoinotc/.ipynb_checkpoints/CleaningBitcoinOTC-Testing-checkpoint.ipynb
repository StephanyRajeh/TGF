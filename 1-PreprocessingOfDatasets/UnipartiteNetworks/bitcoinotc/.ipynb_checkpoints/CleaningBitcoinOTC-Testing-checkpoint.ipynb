{
 "cells": [
  {
   "cell_type": "markdown",
   "id": "967b0d3f",
   "metadata": {},
   "source": [
    "- First column: ID of from node\n",
    "- Second column: ID of to node\n",
    "- Third column (if present): weight or multiplicity of edge\n",
    "- Fourth column (if present):  timestamp of edges Unix time\n",
    "\n",
    "Note: The json file should be gzipped online"
   ]
  },
  {
   "cell_type": "markdown",
   "id": "b9401375",
   "metadata": {},
   "source": [
    "# Imports"
   ]
  },
  {
   "cell_type": "code",
   "execution_count": 1,
   "id": "ffd4fce9",
   "metadata": {},
   "outputs": [],
   "source": [
    "import pandas as pd \n",
    "import networkx as nx\n",
    "import matplotlib.pyplot as plt"
   ]
  },
  {
   "cell_type": "markdown",
   "id": "ef9cd88d",
   "metadata": {},
   "source": [
    "#  Taking raw network"
   ]
  },
  {
   "cell_type": "code",
   "execution_count": 2,
   "id": "0115b52e",
   "metadata": {},
   "outputs": [
    {
     "data": {
      "text/html": [
       "<div>\n",
       "<style scoped>\n",
       "    .dataframe tbody tr th:only-of-type {\n",
       "        vertical-align: middle;\n",
       "    }\n",
       "\n",
       "    .dataframe tbody tr th {\n",
       "        vertical-align: top;\n",
       "    }\n",
       "\n",
       "    .dataframe thead th {\n",
       "        text-align: right;\n",
       "    }\n",
       "</style>\n",
       "<table border=\"1\" class=\"dataframe\">\n",
       "  <thead>\n",
       "    <tr style=\"text-align: right;\">\n",
       "      <th></th>\n",
       "      <th>u</th>\n",
       "      <th>v</th>\n",
       "      <th>weight</th>\n",
       "      <th>timestamp</th>\n",
       "    </tr>\n",
       "  </thead>\n",
       "  <tbody>\n",
       "    <tr>\n",
       "      <th>0</th>\n",
       "      <td>1</td>\n",
       "      <td>2</td>\n",
       "      <td>4</td>\n",
       "      <td>1.289242e+09</td>\n",
       "    </tr>\n",
       "    <tr>\n",
       "      <th>1</th>\n",
       "      <td>1</td>\n",
       "      <td>3</td>\n",
       "      <td>2</td>\n",
       "      <td>1.289242e+09</td>\n",
       "    </tr>\n",
       "    <tr>\n",
       "      <th>2</th>\n",
       "      <td>4</td>\n",
       "      <td>5</td>\n",
       "      <td>1</td>\n",
       "      <td>1.289243e+09</td>\n",
       "    </tr>\n",
       "    <tr>\n",
       "      <th>3</th>\n",
       "      <td>6</td>\n",
       "      <td>7</td>\n",
       "      <td>7</td>\n",
       "      <td>1.289245e+09</td>\n",
       "    </tr>\n",
       "    <tr>\n",
       "      <th>4</th>\n",
       "      <td>8</td>\n",
       "      <td>9</td>\n",
       "      <td>8</td>\n",
       "      <td>1.289254e+09</td>\n",
       "    </tr>\n",
       "    <tr>\n",
       "      <th>...</th>\n",
       "      <td>...</td>\n",
       "      <td>...</td>\n",
       "      <td>...</td>\n",
       "      <td>...</td>\n",
       "    </tr>\n",
       "    <tr>\n",
       "      <th>35587</th>\n",
       "      <td>4379</td>\n",
       "      <td>1786</td>\n",
       "      <td>1</td>\n",
       "      <td>1.453612e+09</td>\n",
       "    </tr>\n",
       "    <tr>\n",
       "      <th>35588</th>\n",
       "      <td>2653</td>\n",
       "      <td>3799</td>\n",
       "      <td>5</td>\n",
       "      <td>1.453679e+09</td>\n",
       "    </tr>\n",
       "    <tr>\n",
       "      <th>35589</th>\n",
       "      <td>2653</td>\n",
       "      <td>4798</td>\n",
       "      <td>5</td>\n",
       "      <td>1.453679e+09</td>\n",
       "    </tr>\n",
       "    <tr>\n",
       "      <th>35590</th>\n",
       "      <td>8</td>\n",
       "      <td>1082</td>\n",
       "      <td>1</td>\n",
       "      <td>1.453680e+09</td>\n",
       "    </tr>\n",
       "    <tr>\n",
       "      <th>35591</th>\n",
       "      <td>1082</td>\n",
       "      <td>8</td>\n",
       "      <td>2</td>\n",
       "      <td>1.453684e+09</td>\n",
       "    </tr>\n",
       "  </tbody>\n",
       "</table>\n",
       "<p>35592 rows × 4 columns</p>\n",
       "</div>"
      ],
      "text/plain": [
       "          u     v  weight     timestamp\n",
       "0         1     2       4  1.289242e+09\n",
       "1         1     3       2  1.289242e+09\n",
       "2         4     5       1  1.289243e+09\n",
       "3         6     7       7  1.289245e+09\n",
       "4         8     9       8  1.289254e+09\n",
       "...     ...   ...     ...           ...\n",
       "35587  4379  1786       1  1.453612e+09\n",
       "35588  2653  3799       5  1.453679e+09\n",
       "35589  2653  4798       5  1.453679e+09\n",
       "35590     8  1082       1  1.453680e+09\n",
       "35591  1082     8       2  1.453684e+09\n",
       "\n",
       "[35592 rows x 4 columns]"
      ]
     },
     "execution_count": 2,
     "metadata": {},
     "output_type": "execute_result"
    }
   ],
   "source": [
    "# Get uci raw and convert it to uci.txt format (t, u, v)\n",
    "cols = ['u','v','weight','timestamp']\n",
    "df = pd.read_csv('out.soc-sign-bitcoinotc', sep=\"\\t\",  names=cols, skiprows=(1))\n",
    "df"
   ]
  },
  {
   "cell_type": "code",
   "execution_count": 3,
   "id": "f5d5206b",
   "metadata": {},
   "outputs": [
    {
     "data": {
      "text/html": [
       "<div>\n",
       "<style scoped>\n",
       "    .dataframe tbody tr th:only-of-type {\n",
       "        vertical-align: middle;\n",
       "    }\n",
       "\n",
       "    .dataframe tbody tr th {\n",
       "        vertical-align: top;\n",
       "    }\n",
       "\n",
       "    .dataframe thead th {\n",
       "        text-align: right;\n",
       "    }\n",
       "</style>\n",
       "<table border=\"1\" class=\"dataframe\">\n",
       "  <thead>\n",
       "    <tr style=\"text-align: right;\">\n",
       "      <th></th>\n",
       "      <th>u</th>\n",
       "      <th>v</th>\n",
       "      <th>timestamp</th>\n",
       "    </tr>\n",
       "  </thead>\n",
       "  <tbody>\n",
       "    <tr>\n",
       "      <th>0</th>\n",
       "      <td>1</td>\n",
       "      <td>2</td>\n",
       "      <td>1.289242e+09</td>\n",
       "    </tr>\n",
       "    <tr>\n",
       "      <th>1</th>\n",
       "      <td>1</td>\n",
       "      <td>3</td>\n",
       "      <td>1.289242e+09</td>\n",
       "    </tr>\n",
       "    <tr>\n",
       "      <th>2</th>\n",
       "      <td>4</td>\n",
       "      <td>5</td>\n",
       "      <td>1.289243e+09</td>\n",
       "    </tr>\n",
       "    <tr>\n",
       "      <th>3</th>\n",
       "      <td>6</td>\n",
       "      <td>7</td>\n",
       "      <td>1.289245e+09</td>\n",
       "    </tr>\n",
       "    <tr>\n",
       "      <th>4</th>\n",
       "      <td>8</td>\n",
       "      <td>9</td>\n",
       "      <td>1.289254e+09</td>\n",
       "    </tr>\n",
       "    <tr>\n",
       "      <th>...</th>\n",
       "      <td>...</td>\n",
       "      <td>...</td>\n",
       "      <td>...</td>\n",
       "    </tr>\n",
       "    <tr>\n",
       "      <th>35587</th>\n",
       "      <td>4379</td>\n",
       "      <td>1786</td>\n",
       "      <td>1.453612e+09</td>\n",
       "    </tr>\n",
       "    <tr>\n",
       "      <th>35588</th>\n",
       "      <td>2653</td>\n",
       "      <td>3799</td>\n",
       "      <td>1.453679e+09</td>\n",
       "    </tr>\n",
       "    <tr>\n",
       "      <th>35589</th>\n",
       "      <td>2653</td>\n",
       "      <td>4798</td>\n",
       "      <td>1.453679e+09</td>\n",
       "    </tr>\n",
       "    <tr>\n",
       "      <th>35590</th>\n",
       "      <td>8</td>\n",
       "      <td>1082</td>\n",
       "      <td>1.453680e+09</td>\n",
       "    </tr>\n",
       "    <tr>\n",
       "      <th>35591</th>\n",
       "      <td>1082</td>\n",
       "      <td>8</td>\n",
       "      <td>1.453684e+09</td>\n",
       "    </tr>\n",
       "  </tbody>\n",
       "</table>\n",
       "<p>35592 rows × 3 columns</p>\n",
       "</div>"
      ],
      "text/plain": [
       "          u     v     timestamp\n",
       "0         1     2  1.289242e+09\n",
       "1         1     3  1.289242e+09\n",
       "2         4     5  1.289243e+09\n",
       "3         6     7  1.289245e+09\n",
       "4         8     9  1.289254e+09\n",
       "...     ...   ...           ...\n",
       "35587  4379  1786  1.453612e+09\n",
       "35588  2653  3799  1.453679e+09\n",
       "35589  2653  4798  1.453679e+09\n",
       "35590     8  1082  1.453680e+09\n",
       "35591  1082     8  1.453684e+09\n",
       "\n",
       "[35592 rows x 3 columns]"
      ]
     },
     "execution_count": 3,
     "metadata": {},
     "output_type": "execute_result"
    }
   ],
   "source": [
    "df.drop(columns=[\"weight\"], inplace=True)\n",
    "df"
   ]
  },
  {
   "cell_type": "code",
   "execution_count": 4,
   "id": "1496c47c",
   "metadata": {},
   "outputs": [
    {
     "data": {
      "text/html": [
       "<div>\n",
       "<style scoped>\n",
       "    .dataframe tbody tr th:only-of-type {\n",
       "        vertical-align: middle;\n",
       "    }\n",
       "\n",
       "    .dataframe tbody tr th {\n",
       "        vertical-align: top;\n",
       "    }\n",
       "\n",
       "    .dataframe thead th {\n",
       "        text-align: right;\n",
       "    }\n",
       "</style>\n",
       "<table border=\"1\" class=\"dataframe\">\n",
       "  <thead>\n",
       "    <tr style=\"text-align: right;\">\n",
       "      <th></th>\n",
       "      <th>timestamp</th>\n",
       "      <th>u</th>\n",
       "      <th>v</th>\n",
       "    </tr>\n",
       "  </thead>\n",
       "  <tbody>\n",
       "    <tr>\n",
       "      <th>0</th>\n",
       "      <td>1.289242e+09</td>\n",
       "      <td>1</td>\n",
       "      <td>2</td>\n",
       "    </tr>\n",
       "    <tr>\n",
       "      <th>1</th>\n",
       "      <td>1.289242e+09</td>\n",
       "      <td>1</td>\n",
       "      <td>3</td>\n",
       "    </tr>\n",
       "    <tr>\n",
       "      <th>2</th>\n",
       "      <td>1.289243e+09</td>\n",
       "      <td>4</td>\n",
       "      <td>5</td>\n",
       "    </tr>\n",
       "    <tr>\n",
       "      <th>3</th>\n",
       "      <td>1.289245e+09</td>\n",
       "      <td>6</td>\n",
       "      <td>7</td>\n",
       "    </tr>\n",
       "    <tr>\n",
       "      <th>4</th>\n",
       "      <td>1.289254e+09</td>\n",
       "      <td>8</td>\n",
       "      <td>9</td>\n",
       "    </tr>\n",
       "    <tr>\n",
       "      <th>...</th>\n",
       "      <td>...</td>\n",
       "      <td>...</td>\n",
       "      <td>...</td>\n",
       "    </tr>\n",
       "    <tr>\n",
       "      <th>35587</th>\n",
       "      <td>1.453612e+09</td>\n",
       "      <td>4379</td>\n",
       "      <td>1786</td>\n",
       "    </tr>\n",
       "    <tr>\n",
       "      <th>35588</th>\n",
       "      <td>1.453679e+09</td>\n",
       "      <td>2653</td>\n",
       "      <td>3799</td>\n",
       "    </tr>\n",
       "    <tr>\n",
       "      <th>35589</th>\n",
       "      <td>1.453679e+09</td>\n",
       "      <td>2653</td>\n",
       "      <td>4798</td>\n",
       "    </tr>\n",
       "    <tr>\n",
       "      <th>35590</th>\n",
       "      <td>1.453680e+09</td>\n",
       "      <td>8</td>\n",
       "      <td>1082</td>\n",
       "    </tr>\n",
       "    <tr>\n",
       "      <th>35591</th>\n",
       "      <td>1.453684e+09</td>\n",
       "      <td>1082</td>\n",
       "      <td>8</td>\n",
       "    </tr>\n",
       "  </tbody>\n",
       "</table>\n",
       "<p>35592 rows × 3 columns</p>\n",
       "</div>"
      ],
      "text/plain": [
       "          timestamp     u     v\n",
       "0      1.289242e+09     1     2\n",
       "1      1.289242e+09     1     3\n",
       "2      1.289243e+09     4     5\n",
       "3      1.289245e+09     6     7\n",
       "4      1.289254e+09     8     9\n",
       "...             ...   ...   ...\n",
       "35587  1.453612e+09  4379  1786\n",
       "35588  1.453679e+09  2653  3799\n",
       "35589  1.453679e+09  2653  4798\n",
       "35590  1.453680e+09     8  1082\n",
       "35591  1.453684e+09  1082     8\n",
       "\n",
       "[35592 rows x 3 columns]"
      ]
     },
     "execution_count": 4,
     "metadata": {},
     "output_type": "execute_result"
    }
   ],
   "source": [
    "# Changing the position of the columns\n",
    "df = df[['timestamp', 'u', 'v']]\n",
    "df"
   ]
  },
  {
   "cell_type": "code",
   "execution_count": 5,
   "id": "f6d8284a",
   "metadata": {},
   "outputs": [
    {
     "data": {
      "text/html": [
       "<div>\n",
       "<style scoped>\n",
       "    .dataframe tbody tr th:only-of-type {\n",
       "        vertical-align: middle;\n",
       "    }\n",
       "\n",
       "    .dataframe tbody tr th {\n",
       "        vertical-align: top;\n",
       "    }\n",
       "\n",
       "    .dataframe thead th {\n",
       "        text-align: right;\n",
       "    }\n",
       "</style>\n",
       "<table border=\"1\" class=\"dataframe\">\n",
       "  <thead>\n",
       "    <tr style=\"text-align: right;\">\n",
       "      <th></th>\n",
       "      <th>timestamp</th>\n",
       "      <th>u</th>\n",
       "      <th>v</th>\n",
       "    </tr>\n",
       "  </thead>\n",
       "  <tbody>\n",
       "    <tr>\n",
       "      <th>0</th>\n",
       "      <td>1289241911</td>\n",
       "      <td>1</td>\n",
       "      <td>2</td>\n",
       "    </tr>\n",
       "    <tr>\n",
       "      <th>1</th>\n",
       "      <td>1289241941</td>\n",
       "      <td>1</td>\n",
       "      <td>3</td>\n",
       "    </tr>\n",
       "    <tr>\n",
       "      <th>2</th>\n",
       "      <td>1289243140</td>\n",
       "      <td>4</td>\n",
       "      <td>5</td>\n",
       "    </tr>\n",
       "    <tr>\n",
       "      <th>3</th>\n",
       "      <td>1289245277</td>\n",
       "      <td>6</td>\n",
       "      <td>7</td>\n",
       "    </tr>\n",
       "    <tr>\n",
       "      <th>4</th>\n",
       "      <td>1289254254</td>\n",
       "      <td>8</td>\n",
       "      <td>9</td>\n",
       "    </tr>\n",
       "    <tr>\n",
       "      <th>...</th>\n",
       "      <td>...</td>\n",
       "      <td>...</td>\n",
       "      <td>...</td>\n",
       "    </tr>\n",
       "    <tr>\n",
       "      <th>35587</th>\n",
       "      <td>1453612481</td>\n",
       "      <td>4379</td>\n",
       "      <td>1786</td>\n",
       "    </tr>\n",
       "    <tr>\n",
       "      <th>35588</th>\n",
       "      <td>1453679428</td>\n",
       "      <td>2653</td>\n",
       "      <td>3799</td>\n",
       "    </tr>\n",
       "    <tr>\n",
       "      <th>35589</th>\n",
       "      <td>1453679434</td>\n",
       "      <td>2653</td>\n",
       "      <td>4798</td>\n",
       "    </tr>\n",
       "    <tr>\n",
       "      <th>35590</th>\n",
       "      <td>1453679632</td>\n",
       "      <td>8</td>\n",
       "      <td>1082</td>\n",
       "    </tr>\n",
       "    <tr>\n",
       "      <th>35591</th>\n",
       "      <td>1453684323</td>\n",
       "      <td>1082</td>\n",
       "      <td>8</td>\n",
       "    </tr>\n",
       "  </tbody>\n",
       "</table>\n",
       "<p>35592 rows × 3 columns</p>\n",
       "</div>"
      ],
      "text/plain": [
       "        timestamp     u     v\n",
       "0      1289241911     1     2\n",
       "1      1289241941     1     3\n",
       "2      1289243140     4     5\n",
       "3      1289245277     6     7\n",
       "4      1289254254     8     9\n",
       "...           ...   ...   ...\n",
       "35587  1453612481  4379  1786\n",
       "35588  1453679428  2653  3799\n",
       "35589  1453679434  2653  4798\n",
       "35590  1453679632     8  1082\n",
       "35591  1453684323  1082     8\n",
       "\n",
       "[35592 rows x 3 columns]"
      ]
     },
     "execution_count": 5,
     "metadata": {},
     "output_type": "execute_result"
    }
   ],
   "source": [
    "df['timestamp'] = df['timestamp'].astype(int)\n",
    "df"
   ]
  },
  {
   "cell_type": "code",
   "execution_count": 6,
   "id": "ced8791d",
   "metadata": {},
   "outputs": [
    {
     "name": "stdout",
     "output_type": "stream",
     "text": [
      "timestamp\n",
      "1289241911    1\n",
      "1289241941    1\n",
      "1289243140    1\n",
      "1289245277    1\n",
      "1289254254    1\n",
      "             ..\n",
      "1453612481    1\n",
      "1453679428    1\n",
      "1453679434    1\n",
      "1453679632    1\n",
      "1453684323    1\n",
      "Length: 35427, dtype: int64\n"
     ]
    }
   ],
   "source": [
    "# Check how many occurances we have in every timestamp\n",
    "timestamps_grouped = df.groupby('timestamp')[['u', 'v']].apply(lambda x: x.shape[0])\n",
    "print(timestamps_grouped)"
   ]
  },
  {
   "cell_type": "code",
   "execution_count": 7,
   "id": "f968fc46",
   "metadata": {},
   "outputs": [
    {
     "data": {
      "image/png": "[encoded data removed]",
      "text/plain": [
       "<Figure size 432x288 with 1 Axes>"
      ]
     },
     "metadata": {
      "needs_background": "light"
     },
     "output_type": "display_data"
    }
   ],
   "source": [
    "counts = df.groupby('timestamp')[['u', 'v']].apply(lambda x: x.shape[0])\n",
    "plt.plot(counts.index, counts.values)\n",
    "plt.xlabel('Timestamp')\n",
    "plt.ylabel('Number of occurrences')\n",
    "plt.xticks(rotation=45)  # Rotate the x-axis tick labels by 45 degrees\n",
    "plt.title('Occurrences of shared u,v values at same timestamp')\n",
    "plt.show()"
   ]
  },
  {
   "cell_type": "code",
   "execution_count": 8,
   "id": "025aac48",
   "metadata": {},
   "outputs": [],
   "source": [
    "df_time = pd.DataFrame()"
   ]
  },
  {
   "cell_type": "code",
   "execution_count": 9,
   "id": "1fad4495",
   "metadata": {},
   "outputs": [
    {
     "data": {
      "text/html": [
       "<div>\n",
       "<style scoped>\n",
       "    .dataframe tbody tr th:only-of-type {\n",
       "        vertical-align: middle;\n",
       "    }\n",
       "\n",
       "    .dataframe tbody tr th {\n",
       "        vertical-align: top;\n",
       "    }\n",
       "\n",
       "    .dataframe thead th {\n",
       "        text-align: right;\n",
       "    }\n",
       "</style>\n",
       "<table border=\"1\" class=\"dataframe\">\n",
       "  <thead>\n",
       "    <tr style=\"text-align: right;\">\n",
       "      <th></th>\n",
       "      <th>timestamp</th>\n",
       "    </tr>\n",
       "  </thead>\n",
       "  <tbody>\n",
       "    <tr>\n",
       "      <th>0</th>\n",
       "      <td>2010-11-08 18:45:11</td>\n",
       "    </tr>\n",
       "    <tr>\n",
       "      <th>1</th>\n",
       "      <td>2010-11-08 18:45:41</td>\n",
       "    </tr>\n",
       "    <tr>\n",
       "      <th>2</th>\n",
       "      <td>2010-11-08 19:05:40</td>\n",
       "    </tr>\n",
       "    <tr>\n",
       "      <th>3</th>\n",
       "      <td>2010-11-08 19:41:17</td>\n",
       "    </tr>\n",
       "    <tr>\n",
       "      <th>4</th>\n",
       "      <td>2010-11-08 22:10:54</td>\n",
       "    </tr>\n",
       "    <tr>\n",
       "      <th>...</th>\n",
       "      <td>...</td>\n",
       "    </tr>\n",
       "    <tr>\n",
       "      <th>35587</th>\n",
       "      <td>2016-01-24 05:14:41</td>\n",
       "    </tr>\n",
       "    <tr>\n",
       "      <th>35588</th>\n",
       "      <td>2016-01-24 23:50:28</td>\n",
       "    </tr>\n",
       "    <tr>\n",
       "      <th>35589</th>\n",
       "      <td>2016-01-24 23:50:34</td>\n",
       "    </tr>\n",
       "    <tr>\n",
       "      <th>35590</th>\n",
       "      <td>2016-01-24 23:53:52</td>\n",
       "    </tr>\n",
       "    <tr>\n",
       "      <th>35591</th>\n",
       "      <td>2016-01-25 01:12:03</td>\n",
       "    </tr>\n",
       "  </tbody>\n",
       "</table>\n",
       "<p>35592 rows × 1 columns</p>\n",
       "</div>"
      ],
      "text/plain": [
       "                timestamp\n",
       "0     2010-11-08 18:45:11\n",
       "1     2010-11-08 18:45:41\n",
       "2     2010-11-08 19:05:40\n",
       "3     2010-11-08 19:41:17\n",
       "4     2010-11-08 22:10:54\n",
       "...                   ...\n",
       "35587 2016-01-24 05:14:41\n",
       "35588 2016-01-24 23:50:28\n",
       "35589 2016-01-24 23:50:34\n",
       "35590 2016-01-24 23:53:52\n",
       "35591 2016-01-25 01:12:03\n",
       "\n",
       "[35592 rows x 1 columns]"
      ]
     },
     "execution_count": 9,
     "metadata": {},
     "output_type": "execute_result"
    }
   ],
   "source": [
    "# Convert timestamps to datetime format\n",
    "df_time['timestamp'] = pd.to_datetime(df['timestamp'], unit='s')\n",
    "df_time"
   ]
  },
  {
   "cell_type": "code",
   "execution_count": 10,
   "id": "1f9b37a4",
   "metadata": {},
   "outputs": [
    {
     "data": {
      "text/plain": [
       "Timedelta('1903 days 06:26:52')"
      ]
     },
     "execution_count": 10,
     "metadata": {},
     "output_type": "execute_result"
    }
   ],
   "source": [
    "# Calculate total time span\n",
    "time_span = df_time['timestamp'].max() - df_time['timestamp'].min()\n",
    "time_span"
   ]
  },
  {
   "cell_type": "code",
   "execution_count": 11,
   "id": "9553c01e",
   "metadata": {},
   "outputs": [
    {
     "name": "stdout",
     "output_type": "stream",
     "text": [
      "Total number of days: 1903.0\n"
     ]
    }
   ],
   "source": [
    "# Convert time span to days\n",
    "total_days = divmod(time_span.total_seconds(), 86400)[0]\n",
    "print(\"Total number of days:\", total_days)"
   ]
  },
  {
   "cell_type": "code",
   "execution_count": 12,
   "id": "d401264b",
   "metadata": {
    "scrolled": true
   },
   "outputs": [
    {
     "name": "stdout",
     "output_type": "stream",
     "text": [
      "Total different timestamps: 35427\n"
     ]
    }
   ],
   "source": [
    "unique_timestamps = df_time['timestamp'].nunique()\n",
    "\n",
    "print(\"Total different timestamps:\", unique_timestamps)"
   ]
  },
  {
   "cell_type": "markdown",
   "id": "9f095e0a",
   "metadata": {},
   "source": [
    "# Remove direction then ordering by `t`, `u`, `v`, remove self-loops, duplicates, then save network"
   ]
  },
  {
   "cell_type": "markdown",
   "id": "b5228e47",
   "metadata": {},
   "source": [
    "## Remove direction and sorting the link stream by `t`, `u`, `v`"
   ]
  },
  {
   "cell_type": "code",
   "execution_count": 13,
   "id": "ab179ff1",
   "metadata": {},
   "outputs": [
    {
     "data": {
      "text/html": [
       "<div>\n",
       "<style scoped>\n",
       "    .dataframe tbody tr th:only-of-type {\n",
       "        vertical-align: middle;\n",
       "    }\n",
       "\n",
       "    .dataframe tbody tr th {\n",
       "        vertical-align: top;\n",
       "    }\n",
       "\n",
       "    .dataframe thead th {\n",
       "        text-align: right;\n",
       "    }\n",
       "</style>\n",
       "<table border=\"1\" class=\"dataframe\">\n",
       "  <thead>\n",
       "    <tr style=\"text-align: right;\">\n",
       "      <th></th>\n",
       "      <th>timestamp</th>\n",
       "      <th>u</th>\n",
       "      <th>v</th>\n",
       "    </tr>\n",
       "  </thead>\n",
       "  <tbody>\n",
       "    <tr>\n",
       "      <th>0</th>\n",
       "      <td>1289241911</td>\n",
       "      <td>1</td>\n",
       "      <td>2</td>\n",
       "    </tr>\n",
       "    <tr>\n",
       "      <th>1</th>\n",
       "      <td>1289241941</td>\n",
       "      <td>1</td>\n",
       "      <td>3</td>\n",
       "    </tr>\n",
       "    <tr>\n",
       "      <th>2</th>\n",
       "      <td>1289243140</td>\n",
       "      <td>4</td>\n",
       "      <td>5</td>\n",
       "    </tr>\n",
       "    <tr>\n",
       "      <th>3</th>\n",
       "      <td>1289245277</td>\n",
       "      <td>6</td>\n",
       "      <td>7</td>\n",
       "    </tr>\n",
       "    <tr>\n",
       "      <th>4</th>\n",
       "      <td>1289254254</td>\n",
       "      <td>8</td>\n",
       "      <td>9</td>\n",
       "    </tr>\n",
       "    <tr>\n",
       "      <th>...</th>\n",
       "      <td>...</td>\n",
       "      <td>...</td>\n",
       "      <td>...</td>\n",
       "    </tr>\n",
       "    <tr>\n",
       "      <th>35587</th>\n",
       "      <td>1453612481</td>\n",
       "      <td>1786</td>\n",
       "      <td>4379</td>\n",
       "    </tr>\n",
       "    <tr>\n",
       "      <th>35588</th>\n",
       "      <td>1453679428</td>\n",
       "      <td>2653</td>\n",
       "      <td>3799</td>\n",
       "    </tr>\n",
       "    <tr>\n",
       "      <th>35589</th>\n",
       "      <td>1453679434</td>\n",
       "      <td>2653</td>\n",
       "      <td>4798</td>\n",
       "    </tr>\n",
       "    <tr>\n",
       "      <th>35590</th>\n",
       "      <td>1453679632</td>\n",
       "      <td>8</td>\n",
       "      <td>1082</td>\n",
       "    </tr>\n",
       "    <tr>\n",
       "      <th>35591</th>\n",
       "      <td>1453684323</td>\n",
       "      <td>8</td>\n",
       "      <td>1082</td>\n",
       "    </tr>\n",
       "  </tbody>\n",
       "</table>\n",
       "<p>35592 rows × 3 columns</p>\n",
       "</div>"
      ],
      "text/plain": [
       "        timestamp     u     v\n",
       "0      1289241911     1     2\n",
       "1      1289241941     1     3\n",
       "2      1289243140     4     5\n",
       "3      1289245277     6     7\n",
       "4      1289254254     8     9\n",
       "...           ...   ...   ...\n",
       "35587  1453612481  1786  4379\n",
       "35588  1453679428  2653  3799\n",
       "35589  1453679434  2653  4798\n",
       "35590  1453679632     8  1082\n",
       "35591  1453684323     8  1082\n",
       "\n",
       "[35592 rows x 3 columns]"
      ]
     },
     "execution_count": 13,
     "metadata": {},
     "output_type": "execute_result"
    }
   ],
   "source": [
    "# Swap 'u' and 'v' values where 'u' > 'v'\n",
    "mask = df['u'] > df['v']\n",
    "df.loc[mask, ['u', 'v']] = df.loc[mask, ['v', 'u']].values\n",
    "\n",
    "# Sort DataFrame by timestamp, u, and v columns\n",
    "df.sort_values(by=['timestamp', 'u', 'v'], inplace=True)\n",
    "\n",
    "# Now df contains the sorted DataFrame with 'u' <= 'v'\n",
    "df"
   ]
  },
  {
   "cell_type": "code",
   "execution_count": 14,
   "id": "5c442624",
   "metadata": {},
   "outputs": [
    {
     "name": "stdout",
     "output_type": "stream",
     "text": [
      "DataFrame is sorted by 'u' and 'v'.\n",
      "DataFrame is sorted by 'timestamp'.\n"
     ]
    }
   ],
   "source": [
    "# Sort DataFrame by timestamp, u, and v columns\n",
    "df_sorted = df.sort_values(by=['timestamp', 'u', 'v'])\n",
    "\n",
    "# Check if the DataFrame is sorted by 'u' and 'v' columns\n",
    "if not df_sorted[['u', 'v']].apply(lambda x: x['v'] >= x['u'], axis=1).all():\n",
    "    print(\"PROBLEM!!! Unsorted nodes in the DataFrame.\")\n",
    "    # Handle the problem as needed, e.g., raise an exception or exit the script\n",
    "else:\n",
    "    print(\"DataFrame is sorted by 'u' and 'v'.\")\n",
    "\n",
    "# Check if the DataFrame is sorted by 'timestamp'\n",
    "if not df_sorted['timestamp'].is_monotonic_increasing:\n",
    "    print(\"PROBLEM!!! DataFrame is not sorted by 'timestamp'.\")\n",
    "    # Handle the problem as needed, e.g., raise an exception or exit the script\n",
    "else:\n",
    "    print(\"DataFrame is sorted by 'timestamp'.\")\n"
   ]
  },
  {
   "cell_type": "code",
   "execution_count": 15,
   "id": "d0f76ff4",
   "metadata": {
    "scrolled": false
   },
   "outputs": [
    {
     "data": {
      "text/plain": [
       "True"
      ]
     },
     "execution_count": 15,
     "metadata": {},
     "output_type": "execute_result"
    }
   ],
   "source": [
    "df.timestamp.is_monotonic_increasing"
   ]
  },
  {
   "cell_type": "code",
   "execution_count": 16,
   "id": "80061dbf",
   "metadata": {},
   "outputs": [
    {
     "data": {
      "text/plain": [
       "False"
      ]
     },
     "execution_count": 16,
     "metadata": {},
     "output_type": "execute_result"
    }
   ],
   "source": [
    "df.u.is_monotonic_increasing"
   ]
  },
  {
   "cell_type": "code",
   "execution_count": 17,
   "id": "74c75559",
   "metadata": {
    "scrolled": true
   },
   "outputs": [
    {
     "data": {
      "text/plain": [
       "False"
      ]
     },
     "execution_count": 17,
     "metadata": {},
     "output_type": "execute_result"
    }
   ],
   "source": [
    "df.v.is_monotonic_increasing"
   ]
  },
  {
   "cell_type": "markdown",
   "id": "8b45e9bd",
   "metadata": {},
   "source": [
    "## Removing self-loops"
   ]
  },
  {
   "cell_type": "code",
   "execution_count": 19,
   "id": "81d12077",
   "metadata": {},
   "outputs": [
    {
     "name": "stdout",
     "output_type": "stream",
     "text": [
      "No self-loops found.\n"
     ]
    }
   ],
   "source": [
    "# Check for self-loops\n",
    "self_loops = df['u'] == df['v']\n",
    "\n",
    "if self_loops.any():\n",
    "    # Print self-loops\n",
    "    print(\"Self-loops:\")\n",
    "    print(df[self_loops])\n",
    "\n",
    "    # Remove self-loops\n",
    "    df_no_self_loops = df[~self_loops] # Not self-loops \n",
    "    \n",
    "    # Display the DataFrame without self-loops\n",
    "    print(\"\\nDataFrame without self-loops:\")\n",
    "    print(df_no_self_loops)\n",
    "else:\n",
    "    print(\"No self-loops found.\")"
   ]
  },
  {
   "cell_type": "code",
   "execution_count": 20,
   "id": "fe756619",
   "metadata": {},
   "outputs": [
    {
     "name": "stdout",
     "output_type": "stream",
     "text": [
      "Duplicate rows:\n",
      "        timestamp     u     v\n",
      "370    1297908772   111   113\n",
      "371    1297908772   111   113\n",
      "445    1298654517    92   123\n",
      "446    1298654517    92   123\n",
      "1779   1304966388   103   428\n",
      "1780   1304966388   103   428\n",
      "3567   1307198593   637   793\n",
      "3568   1307198593   637   793\n",
      "4445   1307680900  1009  1010\n",
      "4446   1307680900  1009  1010\n",
      "4474   1307697178   859   990\n",
      "4475   1307697178   859   990\n",
      "5098   1308428289   978  1051\n",
      "5099   1308428289   978  1051\n",
      "9798   1335305634     8  1198\n",
      "9799   1335305634     8  1198\n",
      "10675  1339024627     6    15\n",
      "10676  1339024627     6    15\n",
      "11423  1341415816  2116  2185\n",
      "11424  1341415816  2116  2185\n",
      "11779  1342551805  1847  2011\n",
      "11780  1342551805  1847  2011\n",
      "15680  1352584828     8   745\n",
      "15681  1352584828     8   745\n",
      "16723  1355243119   968  1456\n",
      "16724  1355243119   968  1456\n",
      "20524  1364955435   173  2011\n",
      "20525  1364955435   173  2011\n",
      "21422  1365952075  3639  3877\n",
      "21423  1365952075  3639  3877\n",
      "21843  1366592251  3625  3639\n",
      "21844  1366592251  3625  3639\n",
      "22756  1368477062     8  4142\n",
      "22757  1368477062     8  4142\n",
      "23264  1369794304  2864  4020\n",
      "23265  1369794304  2864  4020\n",
      "24725  1373855055  2529  4330\n",
      "24726  1373855055  2529  4330\n",
      "25409  1375313695  4090  4482\n",
      "25410  1375313695  4090  4482\n",
      "26199  1376415941  3619  4343\n",
      "26200  1376415941  3619  4343\n",
      "28270  1382015687  2552  4202\n",
      "28271  1382015687  2552  4202\n",
      "32833  1403648310  2779  3400\n",
      "32834  1403648310  2779  3400\n",
      "35156  1433381810  2570  5352\n",
      "35157  1433381810  2570  5352\n",
      "35208  1434656865    33  3348\n",
      "35209  1434656865    33  3348\n",
      "\n",
      "DataFrame without duplicates:\n",
      "        timestamp     u     v\n",
      "0      1289241911     1     2\n",
      "1      1289241941     1     3\n",
      "2      1289243140     4     5\n",
      "3      1289245277     6     7\n",
      "4      1289254254     8     9\n",
      "...           ...   ...   ...\n",
      "35587  1453612481  1786  4379\n",
      "35588  1453679428  2653  3799\n",
      "35589  1453679434  2653  4798\n",
      "35590  1453679632     8  1082\n",
      "35591  1453684323     8  1082\n",
      "\n",
      "[35567 rows x 3 columns]\n"
     ]
    }
   ],
   "source": [
    "# Count duplicate rows\n",
    "duplicate_count = df.duplicated(keep=False).sum()\n",
    "\n",
    "if duplicate_count > 0:\n",
    "    # Print all duplicate rows\n",
    "    print(\"Duplicate rows:\")\n",
    "    print(df[df.duplicated(keep=False)])\n",
    "    \n",
    "    # Remove duplicate rows\n",
    "    df_no_duplicates = df.drop_duplicates()\n",
    "    \n",
    "    # Display the DataFrame without duplicates\n",
    "    print(\"\\nDataFrame without duplicates:\")\n",
    "    print(df_no_duplicates)\n",
    "else:\n",
    "    print(\"No duplicates found.\")\n"
   ]
  },
  {
   "cell_type": "markdown",
   "id": "c6fbfea2",
   "metadata": {},
   "source": [
    "## Removing duplicate rows"
   ]
  },
  {
   "cell_type": "code",
   "execution_count": 20,
   "id": "ddc8a11e",
   "metadata": {},
   "outputs": [
    {
     "name": "stdout",
     "output_type": "stream",
     "text": [
      "Duplicate rows:\n",
      "        timestamp     u     v\n",
      "371    1297908772   111   113\n",
      "446    1298654517    92   123\n",
      "1780   1304966388   103   428\n",
      "3568   1307198593   637   793\n",
      "4446   1307680900  1009  1010\n",
      "4475   1307697178   859   990\n",
      "5099   1308428289   978  1051\n",
      "9799   1335305634     8  1198\n",
      "10676  1339024627     6    15\n",
      "11424  1341415816  2116  2185\n",
      "11780  1342551805  1847  2011\n",
      "15681  1352584828     8   745\n",
      "16724  1355243119   968  1456\n",
      "20525  1364955435   173  2011\n",
      "21423  1365952075  3639  3877\n",
      "21844  1366592251  3625  3639\n",
      "22757  1368477062     8  4142\n",
      "23265  1369794304  2864  4020\n",
      "24726  1373855055  2529  4330\n",
      "25410  1375313695  4090  4482\n",
      "26200  1376415941  3619  4343\n",
      "28271  1382015687  2552  4202\n",
      "32834  1403648310  2779  3400\n",
      "35157  1433381810  2570  5352\n",
      "35209  1434656865    33  3348\n",
      "\n",
      "DataFrame without duplicates:\n",
      "        timestamp     u     v\n",
      "0      1289241911     1     2\n",
      "1      1289241941     1     3\n",
      "2      1289243140     4     5\n",
      "3      1289245277     6     7\n",
      "4      1289254254     8     9\n",
      "...           ...   ...   ...\n",
      "35587  1453612481  1786  4379\n",
      "35588  1453679428  2653  3799\n",
      "35589  1453679434  2653  4798\n",
      "35590  1453679632     8  1082\n",
      "35591  1453684323     8  1082\n",
      "\n",
      "[35567 rows x 3 columns]\n"
     ]
    }
   ],
   "source": [
    "# Count duplicate rows\n",
    "duplicate_count = df.duplicated().sum()\n",
    "\n",
    "if duplicate_count > 0:\n",
    "    # Print duplicate rows\n",
    "    print(\"Duplicate rows:\")\n",
    "    print(df[df.duplicated()])\n",
    "    \n",
    "    # Remove duplicate rows\n",
    "    df_no_duplicates = df.drop_duplicates()\n",
    "    \n",
    "    # Display the DataFrame without duplicates\n",
    "    print(\"\\nDataFrame without duplicates:\")\n",
    "    print(df_no_duplicates)\n",
    "else:\n",
    "    print(\"No duplicates found.\")"
   ]
  },
  {
   "cell_type": "code",
   "execution_count": 21,
   "id": "7d06efc5",
   "metadata": {},
   "outputs": [
    {
     "data": {
      "text/html": [
       "<div>\n",
       "<style scoped>\n",
       "    .dataframe tbody tr th:only-of-type {\n",
       "        vertical-align: middle;\n",
       "    }\n",
       "\n",
       "    .dataframe tbody tr th {\n",
       "        vertical-align: top;\n",
       "    }\n",
       "\n",
       "    .dataframe thead th {\n",
       "        text-align: right;\n",
       "    }\n",
       "</style>\n",
       "<table border=\"1\" class=\"dataframe\">\n",
       "  <thead>\n",
       "    <tr style=\"text-align: right;\">\n",
       "      <th></th>\n",
       "      <th>timestamp</th>\n",
       "      <th>u</th>\n",
       "      <th>v</th>\n",
       "    </tr>\n",
       "  </thead>\n",
       "  <tbody>\n",
       "    <tr>\n",
       "      <th>0</th>\n",
       "      <td>1289241911</td>\n",
       "      <td>1</td>\n",
       "      <td>2</td>\n",
       "    </tr>\n",
       "    <tr>\n",
       "      <th>1</th>\n",
       "      <td>1289241941</td>\n",
       "      <td>1</td>\n",
       "      <td>3</td>\n",
       "    </tr>\n",
       "    <tr>\n",
       "      <th>2</th>\n",
       "      <td>1289243140</td>\n",
       "      <td>4</td>\n",
       "      <td>5</td>\n",
       "    </tr>\n",
       "    <tr>\n",
       "      <th>3</th>\n",
       "      <td>1289245277</td>\n",
       "      <td>6</td>\n",
       "      <td>7</td>\n",
       "    </tr>\n",
       "    <tr>\n",
       "      <th>4</th>\n",
       "      <td>1289254254</td>\n",
       "      <td>8</td>\n",
       "      <td>9</td>\n",
       "    </tr>\n",
       "    <tr>\n",
       "      <th>...</th>\n",
       "      <td>...</td>\n",
       "      <td>...</td>\n",
       "      <td>...</td>\n",
       "    </tr>\n",
       "    <tr>\n",
       "      <th>35587</th>\n",
       "      <td>1453612481</td>\n",
       "      <td>1786</td>\n",
       "      <td>4379</td>\n",
       "    </tr>\n",
       "    <tr>\n",
       "      <th>35588</th>\n",
       "      <td>1453679428</td>\n",
       "      <td>2653</td>\n",
       "      <td>3799</td>\n",
       "    </tr>\n",
       "    <tr>\n",
       "      <th>35589</th>\n",
       "      <td>1453679434</td>\n",
       "      <td>2653</td>\n",
       "      <td>4798</td>\n",
       "    </tr>\n",
       "    <tr>\n",
       "      <th>35590</th>\n",
       "      <td>1453679632</td>\n",
       "      <td>8</td>\n",
       "      <td>1082</td>\n",
       "    </tr>\n",
       "    <tr>\n",
       "      <th>35591</th>\n",
       "      <td>1453684323</td>\n",
       "      <td>8</td>\n",
       "      <td>1082</td>\n",
       "    </tr>\n",
       "  </tbody>\n",
       "</table>\n",
       "<p>35567 rows × 3 columns</p>\n",
       "</div>"
      ],
      "text/plain": [
       "        timestamp     u     v\n",
       "0      1289241911     1     2\n",
       "1      1289241941     1     3\n",
       "2      1289243140     4     5\n",
       "3      1289245277     6     7\n",
       "4      1289254254     8     9\n",
       "...           ...   ...   ...\n",
       "35587  1453612481  1786  4379\n",
       "35588  1453679428  2653  3799\n",
       "35589  1453679434  2653  4798\n",
       "35590  1453679632     8  1082\n",
       "35591  1453684323     8  1082\n",
       "\n",
       "[35567 rows x 3 columns]"
      ]
     },
     "execution_count": 21,
     "metadata": {},
     "output_type": "execute_result"
    }
   ],
   "source": [
    "df = df_no_duplicates\n",
    "df"
   ]
  },
  {
   "cell_type": "code",
   "execution_count": 22,
   "id": "cca3a31f",
   "metadata": {},
   "outputs": [
    {
     "name": "stdout",
     "output_type": "stream",
     "text": [
      "DataFrame is sorted by 'u' and 'v'.\n",
      "DataFrame is sorted by 'timestamp'.\n"
     ]
    }
   ],
   "source": [
    "# Sort DataFrame by timestamp, u, and v columns\n",
    "df_sorted = df.sort_values(by=['timestamp', 'u', 'v'])\n",
    "\n",
    "# Check if the DataFrame is sorted by 'u' and 'v' columns\n",
    "if not df_sorted[['u', 'v']].apply(lambda x: x['v'] >= x['u'], axis=1).all():\n",
    "    print(\"PROBLEM!!! Unsorted nodes in the DataFrame.\")\n",
    "    # Handle the problem as needed, e.g., raise an exception or exit the script\n",
    "else:\n",
    "    print(\"DataFrame is sorted by 'u' and 'v'.\")\n",
    "\n",
    "# Check if the DataFrame is sorted by 'timestamp'\n",
    "if not df_sorted['timestamp'].is_monotonic_increasing:\n",
    "    print(\"PROBLEM!!! DataFrame is not sorted by 'timestamp'.\")\n",
    "    # Handle the problem as needed, e.g., raise an exception or exit the script\n",
    "else:\n",
    "    print(\"DataFrame is sorted by 'timestamp'.\")\n"
   ]
  },
  {
   "cell_type": "markdown",
   "id": "8b84e299",
   "metadata": {},
   "source": [
    "## Saving the link stream"
   ]
  },
  {
   "cell_type": "code",
   "execution_count": 23,
   "id": "a10bfbd3",
   "metadata": {},
   "outputs": [],
   "source": [
    "df.to_csv(r'bitcoinotc.txt', header=None, index=None, sep=' ') # Stop here"
   ]
  },
  {
   "cell_type": "markdown",
   "id": "aaac6434",
   "metadata": {},
   "source": [
    "# Check the graph version of the link stream"
   ]
  },
  {
   "cell_type": "code",
   "execution_count": 23,
   "id": "96a57c72",
   "metadata": {
    "scrolled": false
   },
   "outputs": [],
   "source": [
    "#g = nx.read_edgelist(\"diggtoremoveselfloops.txt\", create_using=nx.DiGraph(), nodetype = int, data=(('timestamp',int),))\n",
    "#nx.info(g)\n",
    "#print(\"Steph: If directed, we have a DiGraph with x nodes and y edges\")"
   ]
  },
  {
   "cell_type": "code",
   "execution_count": 24,
   "id": "003fd0e3",
   "metadata": {
    "scrolled": true
   },
   "outputs": [
    {
     "name": "stdout",
     "output_type": "stream",
     "text": [
      "Graph with 3783 nodes and 14124 edges\n",
      "Steph: If not, we have a Graph with x1 nodes and y2 edges, like StrGNN now\n"
     ]
    },
    {
     "name": "stderr",
     "output_type": "stream",
     "text": [
      "<ipython-input-24-9f1d35d4a047>:2: DeprecationWarning: info is deprecated and will be removed in version 3.0.\n",
      "\n",
      "  print(nx.info(g))\n"
     ]
    }
   ],
   "source": [
    "g = nx.from_pandas_edgelist(df, source='u', target='v', edge_attr=[\"timestamp\"])\n",
    "print(nx.info(g))\n",
    "print(\"Steph: If not, we have a Graph with x1 nodes and y2 edges, like StrGNN now\")"
   ]
  },
  {
   "cell_type": "code",
   "execution_count": 27,
   "id": "0eccec78",
   "metadata": {
    "scrolled": true
   },
   "outputs": [
    {
     "data": {
      "text/plain": [
       "[]"
      ]
     },
     "execution_count": 27,
     "metadata": {},
     "output_type": "execute_result"
    }
   ],
   "source": [
    "list(nx.selfloop_edges(g))"
   ]
  },
  {
   "cell_type": "code",
   "execution_count": 28,
   "id": "d72a1894",
   "metadata": {},
   "outputs": [
    {
     "data": {
      "text/plain": [
       "0"
      ]
     },
     "execution_count": 28,
     "metadata": {},
     "output_type": "execute_result"
    }
   ],
   "source": [
    "len(list(nx.selfloop_edges(g)))"
   ]
  },
  {
   "cell_type": "code",
   "execution_count": 29,
   "id": "dde27858",
   "metadata": {},
   "outputs": [
    {
     "data": {
      "text/plain": [
       "0"
      ]
     },
     "execution_count": 29,
     "metadata": {},
     "output_type": "execute_result"
    }
   ],
   "source": [
    "nx.number_of_selfloops(g)"
   ]
  },
  {
   "cell_type": "code",
   "execution_count": 30,
   "id": "ef470054",
   "metadata": {},
   "outputs": [],
   "source": [
    "# g.remove_edges_from(nx.selfloop_edges(g))"
   ]
  },
  {
   "cell_type": "code",
   "execution_count": 31,
   "id": "ec47cf34",
   "metadata": {
    "scrolled": true
   },
   "outputs": [
    {
     "name": "stderr",
     "output_type": "stream",
     "text": [
      "<ipython-input-31-2539f43b86d9>:2: DeprecationWarning: info is deprecated and will be removed in version 3.0.\n",
      "\n",
      "  nx.info(g)\n"
     ]
    },
    {
     "data": {
      "text/plain": [
       "'Graph with 3783 nodes and 14124 edges'"
      ]
     },
     "execution_count": 31,
     "metadata": {},
     "output_type": "execute_result"
    }
   ],
   "source": [
    "# Same as the StrGNN paper ✔️\n",
    "nx.info(g)"
   ]
  },
  {
   "cell_type": "markdown",
   "id": "138c3825",
   "metadata": {},
   "source": [
    "## Network topology "
   ]
  },
  {
   "cell_type": "code",
   "execution_count": 32,
   "id": "645202eb",
   "metadata": {
    "scrolled": false
   },
   "outputs": [
    {
     "name": "stdout",
     "output_type": "stream",
     "text": [
      "Graph with 3783 nodes and 14124 edges\n",
      "False\n"
     ]
    },
    {
     "name": "stderr",
     "output_type": "stream",
     "text": [
      "<ipython-input-32-801602da4655>:1: DeprecationWarning: info is deprecated and will be removed in version 3.0.\n",
      "\n",
      "  print(nx.info(g))\n"
     ]
    }
   ],
   "source": [
    "print(nx.info(g))\n",
    "print(nx.is_directed(g))"
   ]
  },
  {
   "cell_type": "code",
   "execution_count": 33,
   "id": "264ea5da",
   "metadata": {},
   "outputs": [],
   "source": [
    "A = (g.subgraph(c) for c in nx.connected_components(g))"
   ]
  },
  {
   "cell_type": "code",
   "execution_count": 34,
   "id": "b08b0cf5",
   "metadata": {},
   "outputs": [
    {
     "data": {
      "text/plain": [
       "[<networkx.classes.graph.Graph at 0x1c154c1f700>,\n",
       " <networkx.classes.graph.Graph at 0x1c154c1f730>,\n",
       " <networkx.classes.graph.Graph at 0x1c154c1f5e0>,\n",
       " <networkx.classes.graph.Graph at 0x1c154c1f6a0>,\n",
       " <networkx.classes.graph.Graph at 0x1c154c1f2b0>]"
      ]
     },
     "execution_count": 34,
     "metadata": {},
     "output_type": "execute_result"
    }
   ],
   "source": [
    "list_A = list(A)\n",
    "list_A"
   ]
  },
  {
   "cell_type": "code",
   "execution_count": 35,
   "id": "c178f8bd",
   "metadata": {},
   "outputs": [
    {
     "name": "stdout",
     "output_type": "stream",
     "text": [
      "Number of connected components: 5\n"
     ]
    }
   ],
   "source": [
    "print(\"Number of connected components:\", len(list_A))"
   ]
  },
  {
   "cell_type": "code",
   "execution_count": 36,
   "id": "8f09d0a2",
   "metadata": {},
   "outputs": [
    {
     "name": "stdout",
     "output_type": "stream",
     "text": [
      "Number of nodes: 3783\n",
      "Number of edges: 14124\n"
     ]
    }
   ],
   "source": [
    "N = len(g)\n",
    "M = g.number_of_edges()\n",
    "print('Number of nodes:', N)\n",
    "print('Number of edges:', M)"
   ]
  },
  {
   "cell_type": "markdown",
   "id": "7bbab352",
   "metadata": {},
   "source": [
    "### Degree"
   ]
  },
  {
   "cell_type": "code",
   "execution_count": 37,
   "id": "6fbdaa67",
   "metadata": {},
   "outputs": [
    {
     "name": "stdout",
     "output_type": "stream",
     "text": [
      "Max degree: 511\n",
      "Min degree: 1\n"
     ]
    }
   ],
   "source": [
    "vk = dict(g.degree())\n",
    "vk = list(vk.values())\n",
    "print('Max degree:',max( vk))\n",
    "print('Min degree:',min( vk))"
   ]
  },
  {
   "cell_type": "code",
   "execution_count": 38,
   "id": "ce5eb849",
   "metadata": {},
   "outputs": [
    {
     "name": "stdout",
     "output_type": "stream",
     "text": [
      "Mean degree: 7.467\n"
     ]
    }
   ],
   "source": [
    "md = np.mean(vk)\n",
    "print('Mean degree:', round(md,3))"
   ]
  },
  {
   "cell_type": "code",
   "execution_count": 39,
   "id": "f9337fac",
   "metadata": {},
   "outputs": [],
   "source": [
    "def degree_distribution(G):\n",
    "    vk = dict(G.degree())\n",
    "    vk = list(vk.values()) # we get only the degree values\n",
    "    maxk = np.max(vk)\n",
    "    mink = np.min(min)\n",
    "    kvalues= np.arange(0,maxk+1) # possible values of k\n",
    "    Pk = np.zeros(maxk+1) # P(k)\n",
    "    for k in vk:\n",
    "        Pk[k] = Pk[k] + 1\n",
    "    Pk = Pk/sum(Pk) # the sum of the elements of P(k) must to be equal to one\n",
    "    return kvalues,Pk"
   ]
  },
  {
   "cell_type": "code",
   "execution_count": 40,
   "id": "3f9bbb70",
   "metadata": {},
   "outputs": [],
   "source": [
    "ks, Pk = degree_distribution(g)"
   ]
  },
  {
   "cell_type": "code",
   "execution_count": 41,
   "id": "074b12e7",
   "metadata": {
    "scrolled": false
   },
   "outputs": [
    {
     "data": {
      "image/png": "[encoded data removed]",
      "text/plain": [
       "<Figure size 432x288 with 1 Axes>"
      ]
     },
     "metadata": {
      "needs_background": "light"
     },
     "output_type": "display_data"
    }
   ],
   "source": [
    "plt.figure()\n",
    "plt.loglog(ks, Pk, 'bo')\n",
    "plt.xlabel(\"k\", fontsize=20)\n",
    "plt.ylabel(\"P(k)\", fontsize=20)\n",
    "plt.title(\"Degree distribution\", fontsize=20)\n",
    "plt.grid(True)\n",
    "\n",
    "# Set the base of the logarithm for x and y axes\n",
    "plt.xscale('log', base=10)\n",
    "plt.yscale('log', base=10)\n",
    "\n",
    "# plt.savefig('degree_dist.eps')  # save the figure into a file\n",
    "plt.show(True)"
   ]
  },
  {
   "cell_type": "code",
   "execution_count": 42,
   "id": "0cca83c5",
   "metadata": {},
   "outputs": [],
   "source": [
    "def momment_of_degree_distribution(G,m):\n",
    "    k,Pk = degree_distribution(G)\n",
    "    M = sum((k**m)*Pk)\n",
    "    return M"
   ]
  },
  {
   "cell_type": "code",
   "execution_count": 43,
   "id": "2d8c0e19",
   "metadata": {},
   "outputs": [
    {
     "name": "stdout",
     "output_type": "stream",
     "text": [
      "Mean degree =  7.467\n",
      "First moment of the degree distribution =  7.467\n"
     ]
    }
   ],
   "source": [
    "k1 = momment_of_degree_distribution(g,1)\n",
    "print(\"Mean degree = \", round(np.mean(vk),3))\n",
    "print(\"First moment of the degree distribution = \", round(k1,3))"
   ]
  },
  {
   "cell_type": "code",
   "execution_count": 44,
   "id": "5f6c40dc",
   "metadata": {},
   "outputs": [
    {
     "name": "stdout",
     "output_type": "stream",
     "text": [
      "Second moment of the degree distribution =  457.881\n"
     ]
    }
   ],
   "source": [
    "k2 = momment_of_degree_distribution(g,2)\n",
    "print(\"Second moment of the degree distribution = \", round(k2,3))"
   ]
  },
  {
   "cell_type": "markdown",
   "id": "7ba6b4f6",
   "metadata": {},
   "source": [
    "The variance $V(k) = \\langle k^2 \\rangle - k^2$"
   ]
  },
  {
   "cell_type": "code",
   "execution_count": 45,
   "id": "12aca618",
   "metadata": {},
   "outputs": [
    {
     "name": "stdout",
     "output_type": "stream",
     "text": [
      "Variance of the degree =  402.124\n"
     ]
    }
   ],
   "source": [
    "variance = momment_of_degree_distribution(g,2) - momment_of_degree_distribution(g,1)**2\n",
    "print(\"Variance of the degree = \", round(variance,3))"
   ]
  },
  {
   "cell_type": "markdown",
   "id": "026352b4",
   "metadata": {},
   "source": [
    "### Clustering and transitivity"
   ]
  },
  {
   "cell_type": "code",
   "execution_count": 46,
   "id": "635e82e9",
   "metadata": {},
   "outputs": [
    {
     "name": "stdout",
     "output_type": "stream",
     "text": [
      "Transitivity =  0.0780074\n"
     ]
    }
   ],
   "source": [
    "Tran = (nx.transitivity(g)) \n",
    "print(\"Transitivity = \", round(Tran, 7))"
   ]
  },
  {
   "cell_type": "code",
   "execution_count": 47,
   "id": "75345ea2",
   "metadata": {},
   "outputs": [
    {
     "name": "stdout",
     "output_type": "stream",
     "text": [
      "Average clustering: 0.176629\n"
     ]
    }
   ],
   "source": [
    "avc = nx.average_clustering(g)\n",
    "print(\"Average clustering:\", round(avc, 6))"
   ]
  },
  {
   "cell_type": "code",
   "execution_count": 48,
   "id": "42bc3f3c",
   "metadata": {},
   "outputs": [
    {
     "name": "stdout",
     "output_type": "stream",
     "text": [
      "Clustering of all nodes: [0.05724131 0.08823529 0.15265306 ... 0.         0.         1.        ]\n"
     ]
    }
   ],
   "source": [
    "vcc = []\n",
    "for i in g.nodes():\n",
    "    vcc.append(nx.clustering(g, i))\n",
    "vcc= np.array(vcc)\n",
    "print('Clustering of all nodes:', vcc)"
   ]
  },
  {
   "cell_type": "code",
   "execution_count": 49,
   "id": "d8284086",
   "metadata": {},
   "outputs": [
    {
     "data": {
      "image/png": "[encoded data removed]",
      "text/plain": [
       "<Figure size 432x288 with 1 Axes>"
      ]
     },
     "metadata": {
      "needs_background": "light"
     },
     "output_type": "display_data"
    }
   ],
   "source": [
    "plt.figure()\n",
    "plt.hist(vcc, bins  = 10)\n",
    "plt.title(\"Distribution of the clustering coefficient\")\n",
    "plt.ylabel(\"P(cc)\")\n",
    "plt.xlabel(\"Clustering coefficient (cc)\")\n",
    "plt.grid(True)\n",
    "#plt.savefig('clustering.eps') #save the figure into a file\n",
    "plt.show()"
   ]
  },
  {
   "cell_type": "code",
   "execution_count": null,
   "id": "79480fe1",
   "metadata": {},
   "outputs": [],
   "source": []
  },
  {
   "cell_type": "code",
   "execution_count": null,
   "id": "e9f991f5",
   "metadata": {},
   "outputs": [],
   "source": []
  },
  {
   "cell_type": "code",
   "execution_count": null,
   "id": "68ffe355",
   "metadata": {},
   "outputs": [],
   "source": []
  }
 ],
 "metadata": {
  "kernelspec": {
   "display_name": "Python 3",
   "language": "python",
   "name": "python3"
  },
  "language_info": {
   "codemirror_mode": {
    "name": "ipython",
    "version": 3
   },
   "file_extension": ".py",
   "mimetype": "text/x-python",
   "name": "python",
   "nbconvert_exporter": "python",
   "pygments_lexer": "ipython3",
   "version": "3.8.8"
  },
  "toc": {
   "base_numbering": 1,
   "nav_menu": {},
   "number_sections": true,
   "sideBar": true,
   "skip_h1_title": false,
   "title_cell": "Table of Contents",
   "title_sidebar": "Contents",
   "toc_cell": false,
   "toc_position": {
    "height": "calc(100% - 180px)",
    "left": "10px",
    "top": "150px",
    "width": "276px"
   },
   "toc_section_display": true,
   "toc_window_display": true
  },
  "varInspector": {
   "cols": {
    "lenName": 16,
    "lenType": 16,
    "lenVar": 40
   },
   "kernels_config": {
    "python": {
     "delete_cmd_postfix": "",
     "delete_cmd_prefix": "del ",
     "library": "var_list.py",
     "varRefreshCmd": "print(var_dic_list())"
    },
    "r": {
     "delete_cmd_postfix": ") ",
     "delete_cmd_prefix": "rm(",
     "library": "var_list.r",
     "varRefreshCmd": "cat(var_dic_list()) "
    }
   },
   "types_to_exclude": [
    "module",
    "function",
    "builtin_function_or_method",
    "instance",
    "_Feature"
   ],
   "window_display": false
  }
 },
 "nbformat": 4,
 "nbformat_minor": 5
}
