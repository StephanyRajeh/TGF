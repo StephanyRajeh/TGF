{
 "cells": [
  {
   "cell_type": "markdown",
   "id": "b9401375",
   "metadata": {},
   "source": [
    "# Imports"
   ]
  },
  {
   "cell_type": "code",
   "execution_count": 1,
   "id": "ffd4fce9",
   "metadata": {},
   "outputs": [],
   "source": [
    "import pandas as pd \n",
    "import networkx as nx\n",
    "import matplotlib.pyplot as plt"
   ]
  },
  {
   "cell_type": "markdown",
   "id": "ef9cd88d",
   "metadata": {},
   "source": [
    "#  Taking raw network"
   ]
  },
  {
   "cell_type": "code",
   "execution_count": 2,
   "id": "0115b52e",
   "metadata": {},
   "outputs": [
    {
     "data": {
      "text/html": [
       "<div>\n",
       "<style scoped>\n",
       "    .dataframe tbody tr th:only-of-type {\n",
       "        vertical-align: middle;\n",
       "    }\n",
       "\n",
       "    .dataframe tbody tr th {\n",
       "        vertical-align: top;\n",
       "    }\n",
       "\n",
       "    .dataframe thead th {\n",
       "        text-align: right;\n",
       "    }\n",
       "</style>\n",
       "<table border=\"1\" class=\"dataframe\">\n",
       "  <thead>\n",
       "    <tr style=\"text-align: right;\">\n",
       "      <th></th>\n",
       "      <th>u</th>\n",
       "      <th>v</th>\n",
       "      <th>weight</th>\n",
       "      <th>timestamp</th>\n",
       "    </tr>\n",
       "  </thead>\n",
       "  <tbody>\n",
       "    <tr>\n",
       "      <th>0</th>\n",
       "      <td>1</td>\n",
       "      <td>2</td>\n",
       "      <td>1</td>\n",
       "      <td>1266192000</td>\n",
       "    </tr>\n",
       "    <tr>\n",
       "      <th>1</th>\n",
       "      <td>3</td>\n",
       "      <td>4</td>\n",
       "      <td>1</td>\n",
       "      <td>1266474818</td>\n",
       "    </tr>\n",
       "    <tr>\n",
       "      <th>2</th>\n",
       "      <td>5</td>\n",
       "      <td>6</td>\n",
       "      <td>1</td>\n",
       "      <td>1266213618</td>\n",
       "    </tr>\n",
       "    <tr>\n",
       "      <th>3</th>\n",
       "      <td>7</td>\n",
       "      <td>8</td>\n",
       "      <td>1</td>\n",
       "      <td>1266238515</td>\n",
       "    </tr>\n",
       "    <tr>\n",
       "      <th>4</th>\n",
       "      <td>9</td>\n",
       "      <td>10</td>\n",
       "      <td>1</td>\n",
       "      <td>1266192000</td>\n",
       "    </tr>\n",
       "    <tr>\n",
       "      <th>...</th>\n",
       "      <td>...</td>\n",
       "      <td>...</td>\n",
       "      <td>...</td>\n",
       "      <td>...</td>\n",
       "    </tr>\n",
       "    <tr>\n",
       "      <th>171398</th>\n",
       "      <td>160</td>\n",
       "      <td>466</td>\n",
       "      <td>1</td>\n",
       "      <td>1266204900</td>\n",
       "    </tr>\n",
       "    <tr>\n",
       "      <th>171399</th>\n",
       "      <td>670</td>\n",
       "      <td>32351</td>\n",
       "      <td>1</td>\n",
       "      <td>1266192000</td>\n",
       "    </tr>\n",
       "    <tr>\n",
       "      <th>171400</th>\n",
       "      <td>1794</td>\n",
       "      <td>9116</td>\n",
       "      <td>1</td>\n",
       "      <td>1266192000</td>\n",
       "    </tr>\n",
       "    <tr>\n",
       "      <th>171401</th>\n",
       "      <td>53</td>\n",
       "      <td>11520</td>\n",
       "      <td>1</td>\n",
       "      <td>1266192000</td>\n",
       "    </tr>\n",
       "    <tr>\n",
       "      <th>171402</th>\n",
       "      <td>9752</td>\n",
       "      <td>6023</td>\n",
       "      <td>1</td>\n",
       "      <td>1266268751</td>\n",
       "    </tr>\n",
       "  </tbody>\n",
       "</table>\n",
       "<p>171403 rows × 4 columns</p>\n",
       "</div>"
      ],
      "text/plain": [
       "           u      v  weight   timestamp\n",
       "0          1      2       1  1266192000\n",
       "1          3      4       1  1266474818\n",
       "2          5      6       1  1266213618\n",
       "3          7      8       1  1266238515\n",
       "4          9     10       1  1266192000\n",
       "...      ...    ...     ...         ...\n",
       "171398   160    466       1  1266204900\n",
       "171399   670  32351       1  1266192000\n",
       "171400  1794   9116       1  1266192000\n",
       "171401    53  11520       1  1266192000\n",
       "171402  9752   6023       1  1266268751\n",
       "\n",
       "[171403 rows x 4 columns]"
      ]
     },
     "execution_count": 2,
     "metadata": {},
     "output_type": "execute_result"
    }
   ],
   "source": [
    "# Get uci raw and convert it to uci.txt format (t, u, v)\n",
    "cols = ['u','v','weight','timestamp']\n",
    "df = pd.read_csv('out.topology', sep=\" \",  names=cols, skiprows=(1))\n",
    "df"
   ]
  },
  {
   "cell_type": "code",
   "execution_count": 3,
   "id": "f5d5206b",
   "metadata": {},
   "outputs": [
    {
     "data": {
      "text/html": [
       "<div>\n",
       "<style scoped>\n",
       "    .dataframe tbody tr th:only-of-type {\n",
       "        vertical-align: middle;\n",
       "    }\n",
       "\n",
       "    .dataframe tbody tr th {\n",
       "        vertical-align: top;\n",
       "    }\n",
       "\n",
       "    .dataframe thead th {\n",
       "        text-align: right;\n",
       "    }\n",
       "</style>\n",
       "<table border=\"1\" class=\"dataframe\">\n",
       "  <thead>\n",
       "    <tr style=\"text-align: right;\">\n",
       "      <th></th>\n",
       "      <th>u</th>\n",
       "      <th>v</th>\n",
       "      <th>timestamp</th>\n",
       "    </tr>\n",
       "  </thead>\n",
       "  <tbody>\n",
       "    <tr>\n",
       "      <th>0</th>\n",
       "      <td>1</td>\n",
       "      <td>2</td>\n",
       "      <td>1266192000</td>\n",
       "    </tr>\n",
       "    <tr>\n",
       "      <th>1</th>\n",
       "      <td>3</td>\n",
       "      <td>4</td>\n",
       "      <td>1266474818</td>\n",
       "    </tr>\n",
       "    <tr>\n",
       "      <th>2</th>\n",
       "      <td>5</td>\n",
       "      <td>6</td>\n",
       "      <td>1266213618</td>\n",
       "    </tr>\n",
       "    <tr>\n",
       "      <th>3</th>\n",
       "      <td>7</td>\n",
       "      <td>8</td>\n",
       "      <td>1266238515</td>\n",
       "    </tr>\n",
       "    <tr>\n",
       "      <th>4</th>\n",
       "      <td>9</td>\n",
       "      <td>10</td>\n",
       "      <td>1266192000</td>\n",
       "    </tr>\n",
       "    <tr>\n",
       "      <th>...</th>\n",
       "      <td>...</td>\n",
       "      <td>...</td>\n",
       "      <td>...</td>\n",
       "    </tr>\n",
       "    <tr>\n",
       "      <th>171398</th>\n",
       "      <td>160</td>\n",
       "      <td>466</td>\n",
       "      <td>1266204900</td>\n",
       "    </tr>\n",
       "    <tr>\n",
       "      <th>171399</th>\n",
       "      <td>670</td>\n",
       "      <td>32351</td>\n",
       "      <td>1266192000</td>\n",
       "    </tr>\n",
       "    <tr>\n",
       "      <th>171400</th>\n",
       "      <td>1794</td>\n",
       "      <td>9116</td>\n",
       "      <td>1266192000</td>\n",
       "    </tr>\n",
       "    <tr>\n",
       "      <th>171401</th>\n",
       "      <td>53</td>\n",
       "      <td>11520</td>\n",
       "      <td>1266192000</td>\n",
       "    </tr>\n",
       "    <tr>\n",
       "      <th>171402</th>\n",
       "      <td>9752</td>\n",
       "      <td>6023</td>\n",
       "      <td>1266268751</td>\n",
       "    </tr>\n",
       "  </tbody>\n",
       "</table>\n",
       "<p>171403 rows × 3 columns</p>\n",
       "</div>"
      ],
      "text/plain": [
       "           u      v   timestamp\n",
       "0          1      2  1266192000\n",
       "1          3      4  1266474818\n",
       "2          5      6  1266213618\n",
       "3          7      8  1266238515\n",
       "4          9     10  1266192000\n",
       "...      ...    ...         ...\n",
       "171398   160    466  1266204900\n",
       "171399   670  32351  1266192000\n",
       "171400  1794   9116  1266192000\n",
       "171401    53  11520  1266192000\n",
       "171402  9752   6023  1266268751\n",
       "\n",
       "[171403 rows x 3 columns]"
      ]
     },
     "execution_count": 3,
     "metadata": {},
     "output_type": "execute_result"
    }
   ],
   "source": [
    "df.drop(columns=[\"weight\"], inplace=True)\n",
    "df"
   ]
  },
  {
   "cell_type": "code",
   "execution_count": 4,
   "id": "1496c47c",
   "metadata": {},
   "outputs": [
    {
     "data": {
      "text/html": [
       "<div>\n",
       "<style scoped>\n",
       "    .dataframe tbody tr th:only-of-type {\n",
       "        vertical-align: middle;\n",
       "    }\n",
       "\n",
       "    .dataframe tbody tr th {\n",
       "        vertical-align: top;\n",
       "    }\n",
       "\n",
       "    .dataframe thead th {\n",
       "        text-align: right;\n",
       "    }\n",
       "</style>\n",
       "<table border=\"1\" class=\"dataframe\">\n",
       "  <thead>\n",
       "    <tr style=\"text-align: right;\">\n",
       "      <th></th>\n",
       "      <th>timestamp</th>\n",
       "      <th>u</th>\n",
       "      <th>v</th>\n",
       "    </tr>\n",
       "  </thead>\n",
       "  <tbody>\n",
       "    <tr>\n",
       "      <th>0</th>\n",
       "      <td>1266192000</td>\n",
       "      <td>1</td>\n",
       "      <td>2</td>\n",
       "    </tr>\n",
       "    <tr>\n",
       "      <th>1</th>\n",
       "      <td>1266474818</td>\n",
       "      <td>3</td>\n",
       "      <td>4</td>\n",
       "    </tr>\n",
       "    <tr>\n",
       "      <th>2</th>\n",
       "      <td>1266213618</td>\n",
       "      <td>5</td>\n",
       "      <td>6</td>\n",
       "    </tr>\n",
       "    <tr>\n",
       "      <th>3</th>\n",
       "      <td>1266238515</td>\n",
       "      <td>7</td>\n",
       "      <td>8</td>\n",
       "    </tr>\n",
       "    <tr>\n",
       "      <th>4</th>\n",
       "      <td>1266192000</td>\n",
       "      <td>9</td>\n",
       "      <td>10</td>\n",
       "    </tr>\n",
       "    <tr>\n",
       "      <th>...</th>\n",
       "      <td>...</td>\n",
       "      <td>...</td>\n",
       "      <td>...</td>\n",
       "    </tr>\n",
       "    <tr>\n",
       "      <th>171398</th>\n",
       "      <td>1266204900</td>\n",
       "      <td>160</td>\n",
       "      <td>466</td>\n",
       "    </tr>\n",
       "    <tr>\n",
       "      <th>171399</th>\n",
       "      <td>1266192000</td>\n",
       "      <td>670</td>\n",
       "      <td>32351</td>\n",
       "    </tr>\n",
       "    <tr>\n",
       "      <th>171400</th>\n",
       "      <td>1266192000</td>\n",
       "      <td>1794</td>\n",
       "      <td>9116</td>\n",
       "    </tr>\n",
       "    <tr>\n",
       "      <th>171401</th>\n",
       "      <td>1266192000</td>\n",
       "      <td>53</td>\n",
       "      <td>11520</td>\n",
       "    </tr>\n",
       "    <tr>\n",
       "      <th>171402</th>\n",
       "      <td>1266268751</td>\n",
       "      <td>9752</td>\n",
       "      <td>6023</td>\n",
       "    </tr>\n",
       "  </tbody>\n",
       "</table>\n",
       "<p>171403 rows × 3 columns</p>\n",
       "</div>"
      ],
      "text/plain": [
       "         timestamp     u      v\n",
       "0       1266192000     1      2\n",
       "1       1266474818     3      4\n",
       "2       1266213618     5      6\n",
       "3       1266238515     7      8\n",
       "4       1266192000     9     10\n",
       "...            ...   ...    ...\n",
       "171398  1266204900   160    466\n",
       "171399  1266192000   670  32351\n",
       "171400  1266192000  1794   9116\n",
       "171401  1266192000    53  11520\n",
       "171402  1266268751  9752   6023\n",
       "\n",
       "[171403 rows x 3 columns]"
      ]
     },
     "execution_count": 4,
     "metadata": {},
     "output_type": "execute_result"
    }
   ],
   "source": [
    "# Changing the position of the columns\n",
    "df = df[['timestamp', 'u', 'v']]\n",
    "df"
   ]
  },
  {
   "cell_type": "code",
   "execution_count": 5,
   "id": "f6d8284a",
   "metadata": {},
   "outputs": [
    {
     "data": {
      "text/html": [
       "<div>\n",
       "<style scoped>\n",
       "    .dataframe tbody tr th:only-of-type {\n",
       "        vertical-align: middle;\n",
       "    }\n",
       "\n",
       "    .dataframe tbody tr th {\n",
       "        vertical-align: top;\n",
       "    }\n",
       "\n",
       "    .dataframe thead th {\n",
       "        text-align: right;\n",
       "    }\n",
       "</style>\n",
       "<table border=\"1\" class=\"dataframe\">\n",
       "  <thead>\n",
       "    <tr style=\"text-align: right;\">\n",
       "      <th></th>\n",
       "      <th>timestamp</th>\n",
       "      <th>u</th>\n",
       "      <th>v</th>\n",
       "    </tr>\n",
       "  </thead>\n",
       "  <tbody>\n",
       "    <tr>\n",
       "      <th>0</th>\n",
       "      <td>1266192000</td>\n",
       "      <td>1</td>\n",
       "      <td>2</td>\n",
       "    </tr>\n",
       "    <tr>\n",
       "      <th>1</th>\n",
       "      <td>1266474818</td>\n",
       "      <td>3</td>\n",
       "      <td>4</td>\n",
       "    </tr>\n",
       "    <tr>\n",
       "      <th>2</th>\n",
       "      <td>1266213618</td>\n",
       "      <td>5</td>\n",
       "      <td>6</td>\n",
       "    </tr>\n",
       "    <tr>\n",
       "      <th>3</th>\n",
       "      <td>1266238515</td>\n",
       "      <td>7</td>\n",
       "      <td>8</td>\n",
       "    </tr>\n",
       "    <tr>\n",
       "      <th>4</th>\n",
       "      <td>1266192000</td>\n",
       "      <td>9</td>\n",
       "      <td>10</td>\n",
       "    </tr>\n",
       "    <tr>\n",
       "      <th>...</th>\n",
       "      <td>...</td>\n",
       "      <td>...</td>\n",
       "      <td>...</td>\n",
       "    </tr>\n",
       "    <tr>\n",
       "      <th>171398</th>\n",
       "      <td>1266204900</td>\n",
       "      <td>160</td>\n",
       "      <td>466</td>\n",
       "    </tr>\n",
       "    <tr>\n",
       "      <th>171399</th>\n",
       "      <td>1266192000</td>\n",
       "      <td>670</td>\n",
       "      <td>32351</td>\n",
       "    </tr>\n",
       "    <tr>\n",
       "      <th>171400</th>\n",
       "      <td>1266192000</td>\n",
       "      <td>1794</td>\n",
       "      <td>9116</td>\n",
       "    </tr>\n",
       "    <tr>\n",
       "      <th>171401</th>\n",
       "      <td>1266192000</td>\n",
       "      <td>53</td>\n",
       "      <td>11520</td>\n",
       "    </tr>\n",
       "    <tr>\n",
       "      <th>171402</th>\n",
       "      <td>1266268751</td>\n",
       "      <td>9752</td>\n",
       "      <td>6023</td>\n",
       "    </tr>\n",
       "  </tbody>\n",
       "</table>\n",
       "<p>171403 rows × 3 columns</p>\n",
       "</div>"
      ],
      "text/plain": [
       "         timestamp     u      v\n",
       "0       1266192000     1      2\n",
       "1       1266474818     3      4\n",
       "2       1266213618     5      6\n",
       "3       1266238515     7      8\n",
       "4       1266192000     9     10\n",
       "...            ...   ...    ...\n",
       "171398  1266204900   160    466\n",
       "171399  1266192000   670  32351\n",
       "171400  1266192000  1794   9116\n",
       "171401  1266192000    53  11520\n",
       "171402  1266268751  9752   6023\n",
       "\n",
       "[171403 rows x 3 columns]"
      ]
     },
     "execution_count": 5,
     "metadata": {},
     "output_type": "execute_result"
    }
   ],
   "source": [
    "df['timestamp'] = df['timestamp'].astype(int)\n",
    "df"
   ]
  },
  {
   "cell_type": "code",
   "execution_count": 6,
   "id": "ced8791d",
   "metadata": {},
   "outputs": [
    {
     "name": "stdout",
     "output_type": "stream",
     "text": [
      "timestamp\n",
      "1266192000    67010\n",
      "1266192001       60\n",
      "1266192002       22\n",
      "1266192003       13\n",
      "1266192004       11\n",
      "              ...  \n",
      "1268207999       15\n",
      "1268208000       21\n",
      "1268208001        3\n",
      "1268208002        3\n",
      "1268208004        1\n",
      "Length: 32824, dtype: int64\n"
     ]
    }
   ],
   "source": [
    "# Check how many occurances we have in every timestamp\n",
    "timestamps_grouped = df.groupby('timestamp')[['u', 'v']].apply(lambda x: x.shape[0])\n",
    "print(timestamps_grouped)"
   ]
  },
  {
   "cell_type": "code",
   "execution_count": 8,
   "id": "025aac48",
   "metadata": {},
   "outputs": [],
   "source": [
    "df_time = pd.DataFrame()"
   ]
  },
  {
   "cell_type": "code",
   "execution_count": 9,
   "id": "1fad4495",
   "metadata": {},
   "outputs": [
    {
     "data": {
      "text/html": [
       "<div>\n",
       "<style scoped>\n",
       "    .dataframe tbody tr th:only-of-type {\n",
       "        vertical-align: middle;\n",
       "    }\n",
       "\n",
       "    .dataframe tbody tr th {\n",
       "        vertical-align: top;\n",
       "    }\n",
       "\n",
       "    .dataframe thead th {\n",
       "        text-align: right;\n",
       "    }\n",
       "</style>\n",
       "<table border=\"1\" class=\"dataframe\">\n",
       "  <thead>\n",
       "    <tr style=\"text-align: right;\">\n",
       "      <th></th>\n",
       "      <th>timestamp</th>\n",
       "    </tr>\n",
       "  </thead>\n",
       "  <tbody>\n",
       "    <tr>\n",
       "      <th>0</th>\n",
       "      <td>2010-02-15 00:00:00</td>\n",
       "    </tr>\n",
       "    <tr>\n",
       "      <th>1</th>\n",
       "      <td>2010-02-18 06:33:38</td>\n",
       "    </tr>\n",
       "    <tr>\n",
       "      <th>2</th>\n",
       "      <td>2010-02-15 06:00:18</td>\n",
       "    </tr>\n",
       "    <tr>\n",
       "      <th>3</th>\n",
       "      <td>2010-02-15 12:55:15</td>\n",
       "    </tr>\n",
       "    <tr>\n",
       "      <th>4</th>\n",
       "      <td>2010-02-15 00:00:00</td>\n",
       "    </tr>\n",
       "    <tr>\n",
       "      <th>...</th>\n",
       "      <td>...</td>\n",
       "    </tr>\n",
       "    <tr>\n",
       "      <th>171398</th>\n",
       "      <td>2010-02-15 03:35:00</td>\n",
       "    </tr>\n",
       "    <tr>\n",
       "      <th>171399</th>\n",
       "      <td>2010-02-15 00:00:00</td>\n",
       "    </tr>\n",
       "    <tr>\n",
       "      <th>171400</th>\n",
       "      <td>2010-02-15 00:00:00</td>\n",
       "    </tr>\n",
       "    <tr>\n",
       "      <th>171401</th>\n",
       "      <td>2010-02-15 00:00:00</td>\n",
       "    </tr>\n",
       "    <tr>\n",
       "      <th>171402</th>\n",
       "      <td>2010-02-15 21:19:11</td>\n",
       "    </tr>\n",
       "  </tbody>\n",
       "</table>\n",
       "<p>171403 rows × 1 columns</p>\n",
       "</div>"
      ],
      "text/plain": [
       "                 timestamp\n",
       "0      2010-02-15 00:00:00\n",
       "1      2010-02-18 06:33:38\n",
       "2      2010-02-15 06:00:18\n",
       "3      2010-02-15 12:55:15\n",
       "4      2010-02-15 00:00:00\n",
       "...                    ...\n",
       "171398 2010-02-15 03:35:00\n",
       "171399 2010-02-15 00:00:00\n",
       "171400 2010-02-15 00:00:00\n",
       "171401 2010-02-15 00:00:00\n",
       "171402 2010-02-15 21:19:11\n",
       "\n",
       "[171403 rows x 1 columns]"
      ]
     },
     "execution_count": 9,
     "metadata": {},
     "output_type": "execute_result"
    }
   ],
   "source": [
    "# Convert timestamps to datetime format\n",
    "df_time['timestamp'] = pd.to_datetime(df['timestamp'], unit='s')\n",
    "df_time"
   ]
  },
  {
   "cell_type": "code",
   "execution_count": 10,
   "id": "1f9b37a4",
   "metadata": {},
   "outputs": [
    {
     "data": {
      "text/plain": [
       "Timedelta('23 days 08:00:04')"
      ]
     },
     "execution_count": 10,
     "metadata": {},
     "output_type": "execute_result"
    }
   ],
   "source": [
    "# Calculate total time span\n",
    "time_span = df_time['timestamp'].max() - df_time['timestamp'].min()\n",
    "time_span"
   ]
  },
  {
   "cell_type": "code",
   "execution_count": 11,
   "id": "9553c01e",
   "metadata": {},
   "outputs": [
    {
     "name": "stdout",
     "output_type": "stream",
     "text": [
      "Total number of days: 23.0\n"
     ]
    }
   ],
   "source": [
    "# Convert time span to days\n",
    "total_days = divmod(time_span.total_seconds(), 86400)[0]\n",
    "print(\"Total number of days:\", total_days)"
   ]
  },
  {
   "cell_type": "code",
   "execution_count": 12,
   "id": "d401264b",
   "metadata": {
    "scrolled": true
   },
   "outputs": [
    {
     "name": "stdout",
     "output_type": "stream",
     "text": [
      "Total different timestamps: 32824\n"
     ]
    }
   ],
   "source": [
    "unique_timestamps = df_time['timestamp'].nunique()\n",
    "\n",
    "print(\"Total different timestamps:\", unique_timestamps)"
   ]
  },
  {
   "cell_type": "markdown",
   "id": "9f095e0a",
   "metadata": {},
   "source": [
    "# Remove direction then ordering by `t`, `u`, `v`, remove self-loops, duplicates, then save network"
   ]
  },
  {
   "cell_type": "markdown",
   "id": "b5228e47",
   "metadata": {},
   "source": [
    "## Remove direction and sorting the link stream by `t`, `u`, `v`"
   ]
  },
  {
   "cell_type": "code",
   "execution_count": 13,
   "id": "ab179ff1",
   "metadata": {},
   "outputs": [
    {
     "data": {
      "text/html": [
       "<div>\n",
       "<style scoped>\n",
       "    .dataframe tbody tr th:only-of-type {\n",
       "        vertical-align: middle;\n",
       "    }\n",
       "\n",
       "    .dataframe tbody tr th {\n",
       "        vertical-align: top;\n",
       "    }\n",
       "\n",
       "    .dataframe thead th {\n",
       "        text-align: right;\n",
       "    }\n",
       "</style>\n",
       "<table border=\"1\" class=\"dataframe\">\n",
       "  <thead>\n",
       "    <tr style=\"text-align: right;\">\n",
       "      <th></th>\n",
       "      <th>timestamp</th>\n",
       "      <th>u</th>\n",
       "      <th>v</th>\n",
       "    </tr>\n",
       "  </thead>\n",
       "  <tbody>\n",
       "    <tr>\n",
       "      <th>0</th>\n",
       "      <td>1266192000</td>\n",
       "      <td>1</td>\n",
       "      <td>2</td>\n",
       "    </tr>\n",
       "    <tr>\n",
       "      <th>39</th>\n",
       "      <td>1266192000</td>\n",
       "      <td>1</td>\n",
       "      <td>73</td>\n",
       "    </tr>\n",
       "    <tr>\n",
       "      <th>162</th>\n",
       "      <td>1266192000</td>\n",
       "      <td>1</td>\n",
       "      <td>257</td>\n",
       "    </tr>\n",
       "    <tr>\n",
       "      <th>10133</th>\n",
       "      <td>1266192000</td>\n",
       "      <td>1</td>\n",
       "      <td>314</td>\n",
       "    </tr>\n",
       "    <tr>\n",
       "      <th>110776</th>\n",
       "      <td>1266192000</td>\n",
       "      <td>1</td>\n",
       "      <td>361</td>\n",
       "    </tr>\n",
       "    <tr>\n",
       "      <th>...</th>\n",
       "      <td>...</td>\n",
       "      <td>...</td>\n",
       "      <td>...</td>\n",
       "    </tr>\n",
       "    <tr>\n",
       "      <th>58624</th>\n",
       "      <td>1268208001</td>\n",
       "      <td>785</td>\n",
       "      <td>3237</td>\n",
       "    </tr>\n",
       "    <tr>\n",
       "      <th>130464</th>\n",
       "      <td>1268208002</td>\n",
       "      <td>160</td>\n",
       "      <td>22264</td>\n",
       "    </tr>\n",
       "    <tr>\n",
       "      <th>25934</th>\n",
       "      <td>1268208002</td>\n",
       "      <td>304</td>\n",
       "      <td>412</td>\n",
       "    </tr>\n",
       "    <tr>\n",
       "      <th>62313</th>\n",
       "      <td>1268208002</td>\n",
       "      <td>325</td>\n",
       "      <td>3178</td>\n",
       "    </tr>\n",
       "    <tr>\n",
       "      <th>144079</th>\n",
       "      <td>1268208004</td>\n",
       "      <td>7105</td>\n",
       "      <td>25235</td>\n",
       "    </tr>\n",
       "  </tbody>\n",
       "</table>\n",
       "<p>171403 rows × 3 columns</p>\n",
       "</div>"
      ],
      "text/plain": [
       "         timestamp     u      v\n",
       "0       1266192000     1      2\n",
       "39      1266192000     1     73\n",
       "162     1266192000     1    257\n",
       "10133   1266192000     1    314\n",
       "110776  1266192000     1    361\n",
       "...            ...   ...    ...\n",
       "58624   1268208001   785   3237\n",
       "130464  1268208002   160  22264\n",
       "25934   1268208002   304    412\n",
       "62313   1268208002   325   3178\n",
       "144079  1268208004  7105  25235\n",
       "\n",
       "[171403 rows x 3 columns]"
      ]
     },
     "execution_count": 13,
     "metadata": {},
     "output_type": "execute_result"
    }
   ],
   "source": [
    "# Swap 'u' and 'v' values where 'u' > 'v'\n",
    "mask = df['u'] > df['v']\n",
    "df.loc[mask, ['u', 'v']] = df.loc[mask, ['v', 'u']].values\n",
    "\n",
    "# Sort DataFrame by timestamp, u, and v columns\n",
    "df.sort_values(by=['timestamp', 'u', 'v'], inplace=True)\n",
    "\n",
    "# Now df contains the sorted DataFrame with 'u' <= 'v'\n",
    "df"
   ]
  },
  {
   "cell_type": "code",
   "execution_count": 14,
   "id": "5c442624",
   "metadata": {},
   "outputs": [
    {
     "name": "stdout",
     "output_type": "stream",
     "text": [
      "DataFrame is sorted by 'u' and 'v'.\n",
      "DataFrame is sorted by 'timestamp'.\n"
     ]
    }
   ],
   "source": [
    "# Sort DataFrame by timestamp, u, and v columns\n",
    "df_sorted = df.sort_values(by=['timestamp', 'u', 'v'])\n",
    "\n",
    "# Check if the DataFrame is sorted by 'u' and 'v' columns\n",
    "if not df_sorted[['u', 'v']].apply(lambda x: x['v'] >= x['u'], axis=1).all():\n",
    "    print(\"PROBLEM!!! Unsorted nodes in the DataFrame.\")\n",
    "    # Handle the problem as needed, e.g., raise an exception or exit the script\n",
    "else:\n",
    "    print(\"DataFrame is sorted by 'u' and 'v'.\")\n",
    "\n",
    "# Check if the DataFrame is sorted by 'timestamp'\n",
    "if not df_sorted['timestamp'].is_monotonic_increasing:\n",
    "    print(\"PROBLEM!!! DataFrame is not sorted by 'timestamp'.\")\n",
    "    # Handle the problem as needed, e.g., raise an exception or exit the script\n",
    "else:\n",
    "    print(\"DataFrame is sorted by 'timestamp'.\")\n"
   ]
  },
  {
   "cell_type": "code",
   "execution_count": 15,
   "id": "d0f76ff4",
   "metadata": {
    "scrolled": false
   },
   "outputs": [
    {
     "data": {
      "text/plain": [
       "True"
      ]
     },
     "execution_count": 15,
     "metadata": {},
     "output_type": "execute_result"
    }
   ],
   "source": [
    "df.timestamp.is_monotonic_increasing"
   ]
  },
  {
   "cell_type": "code",
   "execution_count": 16,
   "id": "80061dbf",
   "metadata": {},
   "outputs": [
    {
     "data": {
      "text/plain": [
       "False"
      ]
     },
     "execution_count": 16,
     "metadata": {},
     "output_type": "execute_result"
    }
   ],
   "source": [
    "df.u.is_monotonic_increasing"
   ]
  },
  {
   "cell_type": "code",
   "execution_count": 17,
   "id": "74c75559",
   "metadata": {
    "scrolled": true
   },
   "outputs": [
    {
     "data": {
      "text/plain": [
       "False"
      ]
     },
     "execution_count": 17,
     "metadata": {},
     "output_type": "execute_result"
    }
   ],
   "source": [
    "df.v.is_monotonic_increasing"
   ]
  },
  {
   "cell_type": "markdown",
   "id": "8b45e9bd",
   "metadata": {},
   "source": [
    "## Removing self-loops"
   ]
  },
  {
   "cell_type": "code",
   "execution_count": 18,
   "id": "618138eb",
   "metadata": {},
   "outputs": [
    {
     "name": "stdout",
     "output_type": "stream",
     "text": [
      "No self-loops found.\n"
     ]
    }
   ],
   "source": [
    "# Check for self-loops\n",
    "self_loops = df['u'] == df['v']\n",
    "\n",
    "if self_loops.any():\n",
    "    # Print self-loops\n",
    "    print(\"Self-loops:\")\n",
    "    print(df[self_loops])\n",
    "\n",
    "    # Remove self-loops\n",
    "    df_no_self_loops = df[~self_loops] # Not self-loops \n",
    "    \n",
    "    # Display the DataFrame without self-loops\n",
    "    print(\"\\nDataFrame without self-loops:\")\n",
    "    print(df_no_self_loops)\n",
    "    df = df_no_self_loops\n",
    "else:\n",
    "    print(\"No self-loops found.\")"
   ]
  },
  {
   "cell_type": "markdown",
   "id": "c6fbfea2",
   "metadata": {},
   "source": [
    "## Removing duplicate rows"
   ]
  },
  {
   "cell_type": "code",
   "execution_count": 19,
   "id": "ddc8a11e",
   "metadata": {},
   "outputs": [
    {
     "name": "stdout",
     "output_type": "stream",
     "text": [
      "Duplicate rows:\n",
      "         timestamp    u     v\n",
      "108682  1266192000    1   806\n",
      "143933  1266192000    1   806\n",
      "25878   1266192000    1  8821\n",
      "73851   1266192000    1  8821\n",
      "17554   1266192000    3  4496\n",
      "...            ...  ...   ...\n",
      "163761  1268207998  306   325\n",
      "39939   1268208000    5  3049\n",
      "71061   1268208000    5  3049\n",
      "101348  1268208000  105  3049\n",
      "131758  1268208000  105  3049\n",
      "\n",
      "[31677 rows x 3 columns]\n",
      "\n",
      "DataFrame without duplicates:\n",
      "         timestamp     u      v\n",
      "0       1266192000     1      2\n",
      "39      1266192000     1     73\n",
      "162     1266192000     1    257\n",
      "10133   1266192000     1    314\n",
      "110776  1266192000     1    361\n",
      "...            ...   ...    ...\n",
      "58624   1268208001   785   3237\n",
      "130464  1268208002   160  22264\n",
      "25934   1268208002   304    412\n",
      "62313   1268208002   325   3178\n",
      "144079  1268208004  7105  25235\n",
      "\n",
      "[154841 rows x 3 columns]\n"
     ]
    }
   ],
   "source": [
    "# Count duplicate rows\n",
    "duplicate_count = df.duplicated(keep=False).sum()\n",
    "\n",
    "if duplicate_count > 0:\n",
    "    # Print all duplicate rows\n",
    "    print(\"Duplicate rows:\")\n",
    "    print(df[df.duplicated(keep=False)])\n",
    "    \n",
    "    # Remove duplicate rows\n",
    "    df_no_duplicates = df.drop_duplicates()\n",
    "    \n",
    "    # Display the DataFrame without duplicates\n",
    "    print(\"\\nDataFrame without duplicates:\")\n",
    "    print(df_no_duplicates)\n",
    "else:\n",
    "    print(\"No duplicates found.\")"
   ]
  },
  {
   "cell_type": "code",
   "execution_count": 20,
   "id": "7d06efc5",
   "metadata": {},
   "outputs": [
    {
     "data": {
      "text/html": [
       "<div>\n",
       "<style scoped>\n",
       "    .dataframe tbody tr th:only-of-type {\n",
       "        vertical-align: middle;\n",
       "    }\n",
       "\n",
       "    .dataframe tbody tr th {\n",
       "        vertical-align: top;\n",
       "    }\n",
       "\n",
       "    .dataframe thead th {\n",
       "        text-align: right;\n",
       "    }\n",
       "</style>\n",
       "<table border=\"1\" class=\"dataframe\">\n",
       "  <thead>\n",
       "    <tr style=\"text-align: right;\">\n",
       "      <th></th>\n",
       "      <th>timestamp</th>\n",
       "      <th>u</th>\n",
       "      <th>v</th>\n",
       "    </tr>\n",
       "  </thead>\n",
       "  <tbody>\n",
       "    <tr>\n",
       "      <th>0</th>\n",
       "      <td>1266192000</td>\n",
       "      <td>1</td>\n",
       "      <td>2</td>\n",
       "    </tr>\n",
       "    <tr>\n",
       "      <th>39</th>\n",
       "      <td>1266192000</td>\n",
       "      <td>1</td>\n",
       "      <td>73</td>\n",
       "    </tr>\n",
       "    <tr>\n",
       "      <th>162</th>\n",
       "      <td>1266192000</td>\n",
       "      <td>1</td>\n",
       "      <td>257</td>\n",
       "    </tr>\n",
       "    <tr>\n",
       "      <th>10133</th>\n",
       "      <td>1266192000</td>\n",
       "      <td>1</td>\n",
       "      <td>314</td>\n",
       "    </tr>\n",
       "    <tr>\n",
       "      <th>110776</th>\n",
       "      <td>1266192000</td>\n",
       "      <td>1</td>\n",
       "      <td>361</td>\n",
       "    </tr>\n",
       "    <tr>\n",
       "      <th>...</th>\n",
       "      <td>...</td>\n",
       "      <td>...</td>\n",
       "      <td>...</td>\n",
       "    </tr>\n",
       "    <tr>\n",
       "      <th>58624</th>\n",
       "      <td>1268208001</td>\n",
       "      <td>785</td>\n",
       "      <td>3237</td>\n",
       "    </tr>\n",
       "    <tr>\n",
       "      <th>130464</th>\n",
       "      <td>1268208002</td>\n",
       "      <td>160</td>\n",
       "      <td>22264</td>\n",
       "    </tr>\n",
       "    <tr>\n",
       "      <th>25934</th>\n",
       "      <td>1268208002</td>\n",
       "      <td>304</td>\n",
       "      <td>412</td>\n",
       "    </tr>\n",
       "    <tr>\n",
       "      <th>62313</th>\n",
       "      <td>1268208002</td>\n",
       "      <td>325</td>\n",
       "      <td>3178</td>\n",
       "    </tr>\n",
       "    <tr>\n",
       "      <th>144079</th>\n",
       "      <td>1268208004</td>\n",
       "      <td>7105</td>\n",
       "      <td>25235</td>\n",
       "    </tr>\n",
       "  </tbody>\n",
       "</table>\n",
       "<p>154841 rows × 3 columns</p>\n",
       "</div>"
      ],
      "text/plain": [
       "         timestamp     u      v\n",
       "0       1266192000     1      2\n",
       "39      1266192000     1     73\n",
       "162     1266192000     1    257\n",
       "10133   1266192000     1    314\n",
       "110776  1266192000     1    361\n",
       "...            ...   ...    ...\n",
       "58624   1268208001   785   3237\n",
       "130464  1268208002   160  22264\n",
       "25934   1268208002   304    412\n",
       "62313   1268208002   325   3178\n",
       "144079  1268208004  7105  25235\n",
       "\n",
       "[154841 rows x 3 columns]"
      ]
     },
     "execution_count": 20,
     "metadata": {},
     "output_type": "execute_result"
    }
   ],
   "source": [
    "df = df_no_duplicates\n",
    "df"
   ]
  },
  {
   "cell_type": "code",
   "execution_count": 21,
   "id": "cca3a31f",
   "metadata": {},
   "outputs": [
    {
     "name": "stdout",
     "output_type": "stream",
     "text": [
      "DataFrame is sorted by 'u' and 'v'.\n",
      "DataFrame is sorted by 'timestamp'.\n"
     ]
    }
   ],
   "source": [
    "# Sort DataFrame by timestamp, u, and v columns\n",
    "df_sorted = df.sort_values(by=['timestamp', 'u', 'v'])\n",
    "\n",
    "# Check if the DataFrame is sorted by 'u' and 'v' columns\n",
    "if not df_sorted[['u', 'v']].apply(lambda x: x['v'] >= x['u'], axis=1).all():\n",
    "    print(\"PROBLEM!!! Unsorted nodes in the DataFrame.\")\n",
    "    # Handle the problem as needed, e.g., raise an exception or exit the script\n",
    "else:\n",
    "    print(\"DataFrame is sorted by 'u' and 'v'.\")\n",
    "\n",
    "# Check if the DataFrame is sorted by 'timestamp'\n",
    "if not df_sorted['timestamp'].is_monotonic_increasing:\n",
    "    print(\"PROBLEM!!! DataFrame is not sorted by 'timestamp'.\")\n",
    "    # Handle the problem as needed, e.g., raise an exception or exit the script\n",
    "else:\n",
    "    print(\"DataFrame is sorted by 'timestamp'.\")\n"
   ]
  },
  {
   "cell_type": "markdown",
   "id": "8b84e299",
   "metadata": {},
   "source": [
    "## Saving the link stream"
   ]
  },
  {
   "cell_type": "code",
   "execution_count": 24,
   "id": "a10bfbd3",
   "metadata": {},
   "outputs": [],
   "source": [
    "df.to_csv(r'internettopology.txt', header=None, index=None, sep=' ') # Stop here"
   ]
  }
 ],
 "metadata": {
  "kernelspec": {
   "display_name": "Python 3",
   "language": "python",
   "name": "python3"
  },
  "language_info": {
   "codemirror_mode": {
    "name": "ipython",
    "version": 3
   },
   "file_extension": ".py",
   "mimetype": "text/x-python",
   "name": "python",
   "nbconvert_exporter": "python",
   "pygments_lexer": "ipython3",
   "version": "3.8.8"
  },
  "toc": {
   "base_numbering": 1,
   "nav_menu": {},
   "number_sections": true,
   "sideBar": true,
   "skip_h1_title": false,
   "title_cell": "Table of Contents",
   "title_sidebar": "Contents",
   "toc_cell": false,
   "toc_position": {
    "height": "calc(100% - 180px)",
    "left": "10px",
    "top": "150px",
    "width": "276px"
   },
   "toc_section_display": true,
   "toc_window_display": true
  },
  "varInspector": {
   "cols": {
    "lenName": 16,
    "lenType": 16,
    "lenVar": 40
   },
   "kernels_config": {
    "python": {
     "delete_cmd_postfix": "",
     "delete_cmd_prefix": "del ",
     "library": "var_list.py",
     "varRefreshCmd": "print(var_dic_list())"
    },
    "r": {
     "delete_cmd_postfix": ") ",
     "delete_cmd_prefix": "rm(",
     "library": "var_list.r",
     "varRefreshCmd": "cat(var_dic_list()) "
    }
   },
   "types_to_exclude": [
    "module",
    "function",
    "builtin_function_or_method",
    "instance",
    "_Feature"
   ],
   "window_display": false
  }
 },
 "nbformat": 4,
 "nbformat_minor": 5
}
